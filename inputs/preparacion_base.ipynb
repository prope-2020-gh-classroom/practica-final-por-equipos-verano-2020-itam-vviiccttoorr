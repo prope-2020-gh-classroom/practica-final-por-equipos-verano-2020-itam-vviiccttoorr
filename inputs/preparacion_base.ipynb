{
 "cells": [
  {
   "cell_type": "code",
   "execution_count": 4,
   "metadata": {},
   "outputs": [
    {
     "name": "stdout",
     "output_type": "stream",
     "text": [
      "package 'tidyverse' successfully unpacked and MD5 sums checked\n",
      "\n",
      "The downloaded binary packages are in\n",
      "\tC:\\Users\\victo\\AppData\\Local\\Temp\\RtmpeSfdj7\\downloaded_packages\n"
     ]
    },
    {
     "name": "stderr",
     "output_type": "stream",
     "text": [
      "Warning message:\n",
      "\"package 'tidyverse' was built under R version 3.6.3\"-- Attaching packages --------------------------------------- tidyverse 1.3.0 --\n",
      "v ggplot2 3.3.2     v purrr   0.3.4\n",
      "v tibble  3.0.1     v dplyr   1.0.0\n",
      "v tidyr   1.1.0     v stringr 1.4.0\n",
      "v readr   1.3.1     v forcats 0.4.0\n",
      "Warning message:\n",
      "\"package 'ggplot2' was built under R version 3.6.3\"Warning message:\n",
      "\"package 'tibble' was built under R version 3.6.3\"Warning message:\n",
      "\"package 'tidyr' was built under R version 3.6.3\"Warning message:\n",
      "\"package 'purrr' was built under R version 3.6.3\"Warning message:\n",
      "\"package 'dplyr' was built under R version 3.6.3\"-- Conflicts ------------------------------------------ tidyverse_conflicts() --\n",
      "x dplyr::filter() masks stats::filter()\n",
      "x dplyr::lag()    masks stats::lag()\n"
     ]
    }
   ],
   "source": [
    "install.packages(\"tidyverse\")\n",
    "library(tidyverse)\n",
    "install.packages(\"lubridate\")\n",
    "library(lubridate)"
   ]
  },
  {
   "cell_type": "code",
   "execution_count": 74,
   "metadata": {},
   "outputs": [],
   "source": [
    "df<-read.csv(\"Casos_Diarios_Estado_Nacional_Confirmados_20200715.csv\")"
   ]
  },
  {
   "cell_type": "code",
   "execution_count": 75,
   "metadata": {},
   "outputs": [
    {
     "name": "stdout",
     "output_type": "stream",
     "text": [
      "'data.frame':\t33 obs. of  189 variables:\n",
      " $ cve_ent    : int  1 2 3 4 7 8 9 5 6 10 ...\n",
      " $ poblacion  : int  1434635 3634868 804708 1000617 5730367 3801487 9018645 3218720 785153 1868996 ...\n",
      " $ nombre     : Factor w/ 33 levels \"AGUASCALIENTES\",..: 1 2 3 4 5 6 9 7 8 10 ...\n",
      " $ X12.01.2020: int  0 0 0 0 0 0 0 0 0 0 ...\n",
      " $ X13.01.2020: int  0 0 0 0 0 0 0 0 0 0 ...\n",
      " $ X14.01.2020: int  0 0 0 0 0 0 0 0 0 0 ...\n",
      " $ X15.01.2020: int  0 0 0 0 0 0 0 0 0 0 ...\n",
      " $ X16.01.2020: int  0 0 0 0 0 0 0 0 0 0 ...\n",
      " $ X17.01.2020: int  0 0 0 0 0 0 0 0 0 0 ...\n",
      " $ X18.01.2020: int  0 0 0 0 0 0 0 0 0 0 ...\n",
      " $ X19.01.2020: int  0 0 0 0 0 0 0 0 0 0 ...\n",
      " $ X20.01.2020: int  0 0 0 0 0 0 0 0 0 0 ...\n",
      " $ X21.01.2020: int  0 0 0 0 0 0 0 0 0 0 ...\n",
      " $ X22.01.2020: int  0 0 0 0 0 0 0 0 0 0 ...\n",
      " $ X23.01.2020: int  0 0 0 0 0 0 0 0 0 0 ...\n",
      " $ X24.01.2020: int  0 0 0 0 0 0 0 0 0 0 ...\n",
      " $ X25.01.2020: int  0 0 0 0 0 0 0 0 0 0 ...\n",
      " $ X26.01.2020: int  0 0 0 0 0 0 0 0 0 0 ...\n",
      " $ X27.01.2020: int  0 0 0 0 0 0 0 0 0 0 ...\n",
      " $ X28.01.2020: int  0 0 0 0 0 0 0 0 0 0 ...\n",
      " $ X29.01.2020: int  0 0 0 0 0 0 0 0 0 0 ...\n",
      " $ X30.01.2020: int  0 0 0 0 0 0 0 0 0 0 ...\n",
      " $ X31.01.2020: int  0 0 0 0 0 0 0 0 0 0 ...\n",
      " $ X01.02.2020: int  0 0 0 0 0 0 0 0 0 0 ...\n",
      " $ X02.02.2020: int  0 0 0 0 0 0 0 0 0 0 ...\n",
      " $ X03.02.2020: int  0 0 0 0 0 0 0 0 0 0 ...\n",
      " $ X04.02.2020: int  0 0 0 0 0 0 0 0 0 0 ...\n",
      " $ X05.02.2020: int  0 0 0 0 0 0 0 0 0 0 ...\n",
      " $ X06.02.2020: int  0 0 0 0 0 0 0 0 0 0 ...\n",
      " $ X07.02.2020: int  0 0 0 0 0 0 0 0 0 0 ...\n",
      " $ X08.02.2020: int  0 0 0 0 0 0 0 0 0 0 ...\n",
      " $ X09.02.2020: int  0 0 0 0 0 0 0 0 0 0 ...\n",
      " $ X10.02.2020: int  0 0 0 0 0 0 0 0 0 0 ...\n",
      " $ X11.02.2020: int  0 0 0 0 0 0 0 0 0 0 ...\n",
      " $ X12.02.2020: int  0 1 0 0 0 0 0 0 0 0 ...\n",
      " $ X13.02.2020: int  0 0 0 0 0 0 0 0 0 0 ...\n",
      " $ X14.02.2020: int  0 0 0 0 0 0 0 0 0 0 ...\n",
      " $ X15.02.2020: int  0 0 0 0 0 0 0 0 0 0 ...\n",
      " $ X16.02.2020: int  0 0 0 0 0 0 0 0 0 0 ...\n",
      " $ X17.02.2020: int  0 0 0 0 0 0 0 0 0 0 ...\n",
      " $ X18.02.2020: int  0 0 0 0 0 0 0 0 0 0 ...\n",
      " $ X19.02.2020: int  0 0 0 0 0 0 0 0 0 0 ...\n",
      " $ X20.02.2020: int  0 0 0 0 0 0 0 0 0 0 ...\n",
      " $ X21.02.2020: int  0 0 0 0 0 0 0 0 0 0 ...\n",
      " $ X22.02.2020: int  0 0 0 0 0 0 0 0 0 0 ...\n",
      " $ X23.02.2020: int  0 0 0 0 0 0 0 0 0 0 ...\n",
      " $ X24.02.2020: int  0 0 0 0 0 0 0 0 0 0 ...\n",
      " $ X25.02.2020: int  0 0 0 0 0 0 0 0 0 0 ...\n",
      " $ X26.02.2020: int  0 0 0 0 0 0 0 0 0 0 ...\n",
      " $ X27.02.2020: int  0 0 0 0 0 0 3 0 0 0 ...\n",
      " $ X28.02.2020: int  0 0 0 0 0 0 0 1 0 0 ...\n",
      " $ X29.02.2020: int  0 0 0 0 1 0 0 0 0 0 ...\n",
      " $ X01.03.2020: int  0 0 0 0 0 0 0 0 0 0 ...\n",
      " $ X02.03.2020: int  0 0 0 0 0 0 0 0 0 0 ...\n",
      " $ X03.03.2020: int  0 0 0 0 0 0 0 0 0 0 ...\n",
      " $ X04.03.2020: int  0 0 0 0 0 0 0 0 0 0 ...\n",
      " $ X05.03.2020: int  0 0 0 0 0 0 1 0 0 0 ...\n",
      " $ X06.03.2020: int  0 0 0 0 0 0 0 0 0 0 ...\n",
      " $ X07.03.2020: int  0 0 0 0 0 0 1 0 0 0 ...\n",
      " $ X08.03.2020: int  0 0 0 1 0 0 1 0 0 0 ...\n",
      " $ X09.03.2020: int  0 0 0 0 0 0 0 0 0 0 ...\n",
      " $ X10.03.2020: int  0 0 0 0 0 0 3 0 0 0 ...\n",
      " $ X11.03.2020: int  0 1 0 0 0 0 12 2 0 1 ...\n",
      " $ X12.03.2020: int  0 0 0 1 0 0 17 0 0 0 ...\n",
      " $ X13.03.2020: int  0 0 0 0 0 1 24 0 0 1 ...\n",
      " $ X14.03.2020: int  1 0 0 1 0 1 21 0 1 1 ...\n",
      " $ X15.03.2020: int  0 0 0 0 0 0 10 0 0 0 ...\n",
      " $ X16.03.2020: int  0 1 0 0 0 0 26 1 1 0 ...\n",
      " $ X17.03.2020: int  1 3 0 0 0 0 34 2 0 1 ...\n",
      " $ X18.03.2020: int  3 4 1 0 1 1 31 2 0 1 ...\n",
      " $ X19.03.2020: int  1 5 0 0 0 1 39 3 0 0 ...\n",
      " $ X20.03.2020: int  2 6 1 0 0 3 24 4 0 0 ...\n",
      " $ X21.03.2020: int  1 3 1 0 0 1 12 0 0 1 ...\n",
      " $ X22.03.2020: int  1 2 0 0 0 1 11 0 0 0 ...\n",
      " $ X23.03.2020: int  4 10 4 1 3 0 25 1 0 1 ...\n",
      " $ X24.03.2020: int  0 9 2 0 0 1 35 6 1 1 ...\n",
      " $ X25.03.2020: int  17 7 0 0 2 2 25 0 0 1 ...\n",
      " $ X26.03.2020: int  3 11 2 1 0 2 50 3 0 0 ...\n",
      " $ X27.03.2020: int  6 16 4 3 5 2 39 4 0 0 ...\n",
      " $ X28.03.2020: int  5 7 4 0 1 2 49 4 0 0 ...\n",
      " $ X29.03.2020: int  3 21 1 1 0 5 35 8 0 0 ...\n",
      " $ X30.03.2020: int  4 29 13 0 2 3 77 18 1 2 ...\n",
      " $ X31.03.2020: int  1 44 7 0 2 5 51 14 1 2 ...\n",
      " $ X01.04.2020: int  0 65 5 0 4 7 55 19 2 1 ...\n",
      " $ X02.04.2020: int  0 29 11 2 2 6 71 19 0 0 ...\n",
      " $ X03.04.2020: int  2 38 16 1 5 5 79 21 0 0 ...\n",
      " $ X04.04.2020: int  0 25 5 0 1 9 57 11 0 0 ...\n",
      " $ X05.04.2020: int  2 20 5 3 1 12 55 4 0 0 ...\n",
      " $ X06.04.2020: int  4 68 23 2 5 11 117 25 0 1 ...\n",
      " $ X07.04.2020: int  1 41 24 0 2 7 127 8 0 0 ...\n",
      " $ X08.04.2020: int  1 58 24 0 6 10 125 16 0 1 ...\n",
      " $ X09.04.2020: int  0 58 22 2 3 8 127 6 0 1 ...\n",
      " $ X10.04.2020: int  3 48 9 1 3 12 147 11 0 0 ...\n",
      " $ X11.04.2020: int  1 33 7 5 1 13 110 9 1 1 ...\n",
      " $ X12.04.2020: int  2 44 5 2 0 9 114 6 2 0 ...\n",
      " $ X13.04.2020: int  7 81 14 2 5 18 268 15 0 0 ...\n",
      " $ X14.04.2020: int  2 103 17 4 5 13 247 16 0 0 ...\n",
      " $ X15.04.2020: int  12 102 5 3 6 20 226 16 1 2 ...\n",
      " $ X16.04.2020: int  7 85 9 4 3 26 250 5 2 2 ...\n",
      "  [list output truncated]\n"
     ]
    }
   ],
   "source": [
    "str(df)"
   ]
  },
  {
   "cell_type": "markdown",
   "metadata": {},
   "source": [
    "Pasamos la base a _long format_"
   ]
  },
  {
   "cell_type": "code",
   "execution_count": 38,
   "metadata": {},
   "outputs": [],
   "source": [
    "df_long<-df %>%\n",
    "    pivot_longer(cols=starts_with(\"X\"),\n",
    "                 names_to=\"fecha\",\n",
    "                 values_to=\"casos\")"
   ]
  },
  {
   "cell_type": "code",
   "execution_count": 46,
   "metadata": {},
   "outputs": [
    {
     "data": {
      "text/html": [
       "<table>\n",
       "<thead><tr><th scope=col>cve_ent</th><th scope=col>poblacion</th><th scope=col>nombre</th><th scope=col>fecha</th><th scope=col>casos</th></tr></thead>\n",
       "<tbody>\n",
       "\t<tr><td>1             </td><td>1434635       </td><td>AGUASCALIENTES</td><td>X12.01.2020   </td><td>0             </td></tr>\n",
       "\t<tr><td>1             </td><td>1434635       </td><td>AGUASCALIENTES</td><td>X13.01.2020   </td><td>0             </td></tr>\n",
       "\t<tr><td>1             </td><td>1434635       </td><td>AGUASCALIENTES</td><td>X14.01.2020   </td><td>0             </td></tr>\n",
       "\t<tr><td>1             </td><td>1434635       </td><td>AGUASCALIENTES</td><td>X15.01.2020   </td><td>0             </td></tr>\n",
       "\t<tr><td>1             </td><td>1434635       </td><td>AGUASCALIENTES</td><td>X16.01.2020   </td><td>0             </td></tr>\n",
       "\t<tr><td>1             </td><td>1434635       </td><td>AGUASCALIENTES</td><td>X17.01.2020   </td><td>0             </td></tr>\n",
       "</tbody>\n",
       "</table>\n"
      ],
      "text/latex": [
       "\\begin{tabular}{r|lllll}\n",
       " cve\\_ent & poblacion & nombre & fecha & casos\\\\\n",
       "\\hline\n",
       "\t 1              & 1434635        & AGUASCALIENTES & X12.01.2020    & 0             \\\\\n",
       "\t 1              & 1434635        & AGUASCALIENTES & X13.01.2020    & 0             \\\\\n",
       "\t 1              & 1434635        & AGUASCALIENTES & X14.01.2020    & 0             \\\\\n",
       "\t 1              & 1434635        & AGUASCALIENTES & X15.01.2020    & 0             \\\\\n",
       "\t 1              & 1434635        & AGUASCALIENTES & X16.01.2020    & 0             \\\\\n",
       "\t 1              & 1434635        & AGUASCALIENTES & X17.01.2020    & 0             \\\\\n",
       "\\end{tabular}\n"
      ],
      "text/markdown": [
       "\n",
       "| cve_ent | poblacion | nombre | fecha | casos |\n",
       "|---|---|---|---|---|\n",
       "| 1              | 1434635        | AGUASCALIENTES | X12.01.2020    | 0              |\n",
       "| 1              | 1434635        | AGUASCALIENTES | X13.01.2020    | 0              |\n",
       "| 1              | 1434635        | AGUASCALIENTES | X14.01.2020    | 0              |\n",
       "| 1              | 1434635        | AGUASCALIENTES | X15.01.2020    | 0              |\n",
       "| 1              | 1434635        | AGUASCALIENTES | X16.01.2020    | 0              |\n",
       "| 1              | 1434635        | AGUASCALIENTES | X17.01.2020    | 0              |\n",
       "\n"
      ],
      "text/plain": [
       "  cve_ent poblacion nombre         fecha       casos\n",
       "1 1       1434635   AGUASCALIENTES X12.01.2020 0    \n",
       "2 1       1434635   AGUASCALIENTES X13.01.2020 0    \n",
       "3 1       1434635   AGUASCALIENTES X14.01.2020 0    \n",
       "4 1       1434635   AGUASCALIENTES X15.01.2020 0    \n",
       "5 1       1434635   AGUASCALIENTES X16.01.2020 0    \n",
       "6 1       1434635   AGUASCALIENTES X17.01.2020 0    "
      ]
     },
     "metadata": {},
     "output_type": "display_data"
    }
   ],
   "source": [
    "head(df_long)"
   ]
  },
  {
   "cell_type": "markdown",
   "metadata": {},
   "source": [
    "Pasamos la columna de fecha a formato de fecha en R"
   ]
  },
  {
   "cell_type": "code",
   "execution_count": 64,
   "metadata": {},
   "outputs": [],
   "source": [
    "df_long$fecha<- df_long$fecha %>%\n",
    "                    str_remove(\"X\") %>%\n",
    "                    dmy()"
   ]
  },
  {
   "cell_type": "code",
   "execution_count": 76,
   "metadata": {},
   "outputs": [],
   "source": [
    "df_long<-rename(df_long, estado=nombre)"
   ]
  },
  {
   "cell_type": "code",
   "execution_count": 77,
   "metadata": {},
   "outputs": [
    {
     "name": "stdout",
     "output_type": "stream",
     "text": [
      "tibble [6,138 x 5] (S3: tbl_df/tbl/data.frame)\n",
      " $ cve_ent  : int [1:6138] 1 1 1 1 1 1 1 1 1 1 ...\n",
      " $ poblacion: int [1:6138] 1434635 1434635 1434635 1434635 1434635 1434635 1434635 1434635 1434635 1434635 ...\n",
      " $ estado   : Factor w/ 33 levels \"AGUASCALIENTES\",..: 1 1 1 1 1 1 1 1 1 1 ...\n",
      " $ fecha    : Date[1:6138], format: \"2020-01-12\" \"2020-01-13\" ...\n",
      " $ casos    : int [1:6138] 0 0 0 0 0 0 0 0 0 0 ...\n"
     ]
    }
   ],
   "source": [
    "str(df_long)"
   ]
  },
  {
   "cell_type": "code",
   "execution_count": 67,
   "metadata": {},
   "outputs": [],
   "source": [
    "gc<-ggplot(data=df_long)"
   ]
  },
  {
   "cell_type": "code",
   "execution_count": 21,
   "metadata": {},
   "outputs": [],
   "source": []
  }
 ],
 "metadata": {
  "kernelspec": {
   "display_name": "R",
   "language": "R",
   "name": "ir"
  },
  "language_info": {
   "codemirror_mode": "r",
   "file_extension": ".r",
   "mimetype": "text/x-r-source",
   "name": "R",
   "pygments_lexer": "r",
   "version": "3.6.1"
  }
 },
 "nbformat": 4,
 "nbformat_minor": 4
}
