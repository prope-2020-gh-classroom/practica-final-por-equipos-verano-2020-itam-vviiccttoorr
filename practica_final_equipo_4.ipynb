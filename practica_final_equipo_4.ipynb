{
 "cells": [
  {
   "cell_type": "markdown",
   "metadata": {},
   "source": [
    "# Casos COVID-19 confirmados en Mexico "
   ]
  },
  {
   "cell_type": "markdown",
   "metadata": {},
   "source": [
    "**Core R y ggplot2**"
   ]
  },
  {
   "cell_type": "markdown",
   "metadata": {},
   "source": [
    "Se realizara el analisis de los casos confirmados de Covid19 por estados de la Republica Mexicana.\n",
    "La documentación utilizada proviene del portal del Gobierno de Mexico [aquí](https://coronavirus.gob.mx/datos/)."
   ]
  },
  {
   "cell_type": "markdown",
   "metadata": {},
   "source": [
    "***Carga de informacion***"
   ]
  },
  {
   "cell_type": "code",
   "execution_count": 1,
   "metadata": {},
   "outputs": [
    {
     "name": "stderr",
     "output_type": "stream",
     "text": [
      "Warning message:\n",
      "\"package 'tidyverse' was built under R version 3.6.3\"-- Attaching packages --------------------------------------- tidyverse 1.3.0 --\n",
      "v ggplot2 3.3.2     v purrr   0.3.4\n",
      "v tibble  3.0.1     v dplyr   1.0.0\n",
      "v tidyr   1.1.0     v stringr 1.4.0\n",
      "v readr   1.3.1     v forcats 0.4.0\n",
      "Warning message:\n",
      "\"package 'ggplot2' was built under R version 3.6.3\"Warning message:\n",
      "\"package 'tibble' was built under R version 3.6.3\"Warning message:\n",
      "\"package 'tidyr' was built under R version 3.6.3\"Warning message:\n",
      "\"package 'purrr' was built under R version 3.6.3\"Warning message:\n",
      "\"package 'dplyr' was built under R version 3.6.3\"-- Conflicts ------------------------------------------ tidyverse_conflicts() --\n",
      "x dplyr::filter() masks stats::filter()\n",
      "x dplyr::lag()    masks stats::lag()\n",
      "\n",
      "Attaching package: 'lubridate'\n",
      "\n",
      "The following object is masked from 'package:base':\n",
      "\n",
      "    date\n",
      "\n"
     ]
    }
   ],
   "source": [
    "library(tidyverse)\n",
    "library(lubridate)"
   ]
  },
  {
   "cell_type": "code",
   "execution_count": 133,
   "metadata": {},
   "outputs": [],
   "source": [
    "df<-read.csv(\"Casos_Diarios_Estado_Nacional_Confirmados_20200715.csv\")"
   ]
  },
  {
   "cell_type": "markdown",
   "metadata": {},
   "source": [
    "***Estructura de la informacion***"
   ]
  },
  {
   "cell_type": "code",
   "execution_count": 134,
   "metadata": {},
   "outputs": [
    {
     "name": "stdout",
     "output_type": "stream",
     "text": [
      "'data.frame':\t33 obs. of  189 variables:\n",
      " $ cve_ent    : int  1 2 3 4 7 8 9 5 6 10 ...\n",
      " $ poblacion  : int  1434635 3634868 804708 1000617 5730367 3801487 9018645 3218720 785153 1868996 ...\n",
      " $ nombre     : Factor w/ 33 levels \"AGUASCALIENTES\",..: 1 2 3 4 5 6 9 7 8 10 ...\n",
      " $ X12.01.2020: int  0 0 0 0 0 0 0 0 0 0 ...\n",
      " $ X13.01.2020: int  0 0 0 0 0 0 0 0 0 0 ...\n",
      " $ X14.01.2020: int  0 0 0 0 0 0 0 0 0 0 ...\n",
      " $ X15.01.2020: int  0 0 0 0 0 0 0 0 0 0 ...\n",
      " $ X16.01.2020: int  0 0 0 0 0 0 0 0 0 0 ...\n",
      " $ X17.01.2020: int  0 0 0 0 0 0 0 0 0 0 ...\n",
      " $ X18.01.2020: int  0 0 0 0 0 0 0 0 0 0 ...\n",
      " $ X19.01.2020: int  0 0 0 0 0 0 0 0 0 0 ...\n",
      " $ X20.01.2020: int  0 0 0 0 0 0 0 0 0 0 ...\n",
      " $ X21.01.2020: int  0 0 0 0 0 0 0 0 0 0 ...\n",
      " $ X22.01.2020: int  0 0 0 0 0 0 0 0 0 0 ...\n",
      " $ X23.01.2020: int  0 0 0 0 0 0 0 0 0 0 ...\n",
      " $ X24.01.2020: int  0 0 0 0 0 0 0 0 0 0 ...\n",
      " $ X25.01.2020: int  0 0 0 0 0 0 0 0 0 0 ...\n",
      " $ X26.01.2020: int  0 0 0 0 0 0 0 0 0 0 ...\n",
      " $ X27.01.2020: int  0 0 0 0 0 0 0 0 0 0 ...\n",
      " $ X28.01.2020: int  0 0 0 0 0 0 0 0 0 0 ...\n",
      " $ X29.01.2020: int  0 0 0 0 0 0 0 0 0 0 ...\n",
      " $ X30.01.2020: int  0 0 0 0 0 0 0 0 0 0 ...\n",
      " $ X31.01.2020: int  0 0 0 0 0 0 0 0 0 0 ...\n",
      " $ X01.02.2020: int  0 0 0 0 0 0 0 0 0 0 ...\n",
      " $ X02.02.2020: int  0 0 0 0 0 0 0 0 0 0 ...\n",
      " $ X03.02.2020: int  0 0 0 0 0 0 0 0 0 0 ...\n",
      " $ X04.02.2020: int  0 0 0 0 0 0 0 0 0 0 ...\n",
      " $ X05.02.2020: int  0 0 0 0 0 0 0 0 0 0 ...\n",
      " $ X06.02.2020: int  0 0 0 0 0 0 0 0 0 0 ...\n",
      " $ X07.02.2020: int  0 0 0 0 0 0 0 0 0 0 ...\n",
      " $ X08.02.2020: int  0 0 0 0 0 0 0 0 0 0 ...\n",
      " $ X09.02.2020: int  0 0 0 0 0 0 0 0 0 0 ...\n",
      " $ X10.02.2020: int  0 0 0 0 0 0 0 0 0 0 ...\n",
      " $ X11.02.2020: int  0 0 0 0 0 0 0 0 0 0 ...\n",
      " $ X12.02.2020: int  0 1 0 0 0 0 0 0 0 0 ...\n",
      " $ X13.02.2020: int  0 0 0 0 0 0 0 0 0 0 ...\n",
      " $ X14.02.2020: int  0 0 0 0 0 0 0 0 0 0 ...\n",
      " $ X15.02.2020: int  0 0 0 0 0 0 0 0 0 0 ...\n",
      " $ X16.02.2020: int  0 0 0 0 0 0 0 0 0 0 ...\n",
      " $ X17.02.2020: int  0 0 0 0 0 0 0 0 0 0 ...\n",
      " $ X18.02.2020: int  0 0 0 0 0 0 0 0 0 0 ...\n",
      " $ X19.02.2020: int  0 0 0 0 0 0 0 0 0 0 ...\n",
      " $ X20.02.2020: int  0 0 0 0 0 0 0 0 0 0 ...\n",
      " $ X21.02.2020: int  0 0 0 0 0 0 0 0 0 0 ...\n",
      " $ X22.02.2020: int  0 0 0 0 0 0 0 0 0 0 ...\n",
      " $ X23.02.2020: int  0 0 0 0 0 0 0 0 0 0 ...\n",
      " $ X24.02.2020: int  0 0 0 0 0 0 0 0 0 0 ...\n",
      " $ X25.02.2020: int  0 0 0 0 0 0 0 0 0 0 ...\n",
      " $ X26.02.2020: int  0 0 0 0 0 0 0 0 0 0 ...\n",
      " $ X27.02.2020: int  0 0 0 0 0 0 3 0 0 0 ...\n",
      " $ X28.02.2020: int  0 0 0 0 0 0 0 1 0 0 ...\n",
      " $ X29.02.2020: int  0 0 0 0 1 0 0 0 0 0 ...\n",
      " $ X01.03.2020: int  0 0 0 0 0 0 0 0 0 0 ...\n",
      " $ X02.03.2020: int  0 0 0 0 0 0 0 0 0 0 ...\n",
      " $ X03.03.2020: int  0 0 0 0 0 0 0 0 0 0 ...\n",
      " $ X04.03.2020: int  0 0 0 0 0 0 0 0 0 0 ...\n",
      " $ X05.03.2020: int  0 0 0 0 0 0 1 0 0 0 ...\n",
      " $ X06.03.2020: int  0 0 0 0 0 0 0 0 0 0 ...\n",
      " $ X07.03.2020: int  0 0 0 0 0 0 1 0 0 0 ...\n",
      " $ X08.03.2020: int  0 0 0 1 0 0 1 0 0 0 ...\n",
      " $ X09.03.2020: int  0 0 0 0 0 0 0 0 0 0 ...\n",
      " $ X10.03.2020: int  0 0 0 0 0 0 3 0 0 0 ...\n",
      " $ X11.03.2020: int  0 1 0 0 0 0 12 2 0 1 ...\n",
      " $ X12.03.2020: int  0 0 0 1 0 0 17 0 0 0 ...\n",
      " $ X13.03.2020: int  0 0 0 0 0 1 24 0 0 1 ...\n",
      " $ X14.03.2020: int  1 0 0 1 0 1 21 0 1 1 ...\n",
      " $ X15.03.2020: int  0 0 0 0 0 0 10 0 0 0 ...\n",
      " $ X16.03.2020: int  0 1 0 0 0 0 26 1 1 0 ...\n",
      " $ X17.03.2020: int  1 3 0 0 0 0 34 2 0 1 ...\n",
      " $ X18.03.2020: int  3 4 1 0 1 1 31 2 0 1 ...\n",
      " $ X19.03.2020: int  1 5 0 0 0 1 39 3 0 0 ...\n",
      " $ X20.03.2020: int  2 6 1 0 0 3 24 4 0 0 ...\n",
      " $ X21.03.2020: int  1 3 1 0 0 1 12 0 0 1 ...\n",
      " $ X22.03.2020: int  1 2 0 0 0 1 11 0 0 0 ...\n",
      " $ X23.03.2020: int  4 10 4 1 3 0 25 1 0 1 ...\n",
      " $ X24.03.2020: int  0 9 2 0 0 1 35 6 1 1 ...\n",
      " $ X25.03.2020: int  17 7 0 0 2 2 25 0 0 1 ...\n",
      " $ X26.03.2020: int  3 11 2 1 0 2 50 3 0 0 ...\n",
      " $ X27.03.2020: int  6 16 4 3 5 2 39 4 0 0 ...\n",
      " $ X28.03.2020: int  5 7 4 0 1 2 49 4 0 0 ...\n",
      " $ X29.03.2020: int  3 21 1 1 0 5 35 8 0 0 ...\n",
      " $ X30.03.2020: int  4 29 13 0 2 3 77 18 1 2 ...\n",
      " $ X31.03.2020: int  1 44 7 0 2 5 51 14 1 2 ...\n",
      " $ X01.04.2020: int  0 65 5 0 4 7 55 19 2 1 ...\n",
      " $ X02.04.2020: int  0 29 11 2 2 6 71 19 0 0 ...\n",
      " $ X03.04.2020: int  2 38 16 1 5 5 79 21 0 0 ...\n",
      " $ X04.04.2020: int  0 25 5 0 1 9 57 11 0 0 ...\n",
      " $ X05.04.2020: int  2 20 5 3 1 12 55 4 0 0 ...\n",
      " $ X06.04.2020: int  4 68 23 2 5 11 117 25 0 1 ...\n",
      " $ X07.04.2020: int  1 41 24 0 2 7 127 8 0 0 ...\n",
      " $ X08.04.2020: int  1 58 24 0 6 10 125 16 0 1 ...\n",
      " $ X09.04.2020: int  0 58 22 2 3 8 127 6 0 1 ...\n",
      " $ X10.04.2020: int  3 48 9 1 3 12 147 11 0 0 ...\n",
      " $ X11.04.2020: int  1 33 7 5 1 13 110 9 1 1 ...\n",
      " $ X12.04.2020: int  2 44 5 2 0 9 114 6 2 0 ...\n",
      " $ X13.04.2020: int  7 81 14 2 5 18 268 15 0 0 ...\n",
      " $ X14.04.2020: int  2 103 17 4 5 13 247 16 0 0 ...\n",
      " $ X15.04.2020: int  12 102 5 3 6 20 226 16 1 2 ...\n",
      " $ X16.04.2020: int  7 85 9 4 3 26 250 5 2 2 ...\n",
      "  [list output truncated]\n"
     ]
    }
   ],
   "source": [
    "str(df)"
   ]
  },
  {
   "cell_type": "markdown",
   "metadata": {},
   "source": []
  },
  {
   "cell_type": "code",
   "execution_count": 13,
   "metadata": {
    "collapsed": true,
    "jupyter": {
     "outputs_hidden": true
    }
   },
   "outputs": [
    {
     "name": "stdout",
     "output_type": "stream",
     "text": [
      "tibble [33 × 189] (S3: spec_tbl_df/tbl_df/tbl/data.frame)\n",
      " $ cve_ent   : chr [1:33] \"01\" \"02\" \"03\" \"04\" ...\n",
      " $ poblacion : num [1:33] 1434635 3634868 804708 1000617 5730367 ...\n",
      " $ nombre    : chr [1:33] \"AGUASCALIENTES\" \"BAJA CALIFORNIA\" \"BAJA CALIFORNIA SUR\" \"CAMPECHE\" ...\n",
      " $ 12-01-2020: num [1:33] 0 0 0 0 0 0 0 0 0 0 ...\n",
      " $ 13-01-2020: num [1:33] 0 0 0 0 0 0 0 0 0 0 ...\n",
      " $ 14-01-2020: num [1:33] 0 0 0 0 0 0 0 0 0 0 ...\n",
      " $ 15-01-2020: num [1:33] 0 0 0 0 0 0 0 0 0 0 ...\n",
      " $ 16-01-2020: num [1:33] 0 0 0 0 0 0 0 0 0 0 ...\n",
      " $ 17-01-2020: num [1:33] 0 0 0 0 0 0 0 0 0 0 ...\n",
      " $ 18-01-2020: num [1:33] 0 0 0 0 0 0 0 0 0 0 ...\n",
      " $ 19-01-2020: num [1:33] 0 0 0 0 0 0 0 0 0 0 ...\n",
      " $ 20-01-2020: num [1:33] 0 0 0 0 0 0 0 0 0 0 ...\n",
      " $ 21-01-2020: num [1:33] 0 0 0 0 0 0 0 0 0 0 ...\n",
      " $ 22-01-2020: num [1:33] 0 0 0 0 0 0 0 0 0 0 ...\n",
      " $ 23-01-2020: num [1:33] 0 0 0 0 0 0 0 0 0 0 ...\n",
      " $ 24-01-2020: num [1:33] 0 0 0 0 0 0 0 0 0 0 ...\n",
      " $ 25-01-2020: num [1:33] 0 0 0 0 0 0 0 0 0 0 ...\n",
      " $ 26-01-2020: num [1:33] 0 0 0 0 0 0 0 0 0 0 ...\n",
      " $ 27-01-2020: num [1:33] 0 0 0 0 0 0 0 0 0 0 ...\n",
      " $ 28-01-2020: num [1:33] 0 0 0 0 0 0 0 0 0 0 ...\n",
      " $ 29-01-2020: num [1:33] 0 0 0 0 0 0 0 0 0 0 ...\n",
      " $ 30-01-2020: num [1:33] 0 0 0 0 0 0 0 0 0 0 ...\n",
      " $ 31-01-2020: num [1:33] 0 0 0 0 0 0 0 0 0 0 ...\n",
      " $ 01-02-2020: num [1:33] 0 0 0 0 0 0 0 0 0 0 ...\n",
      " $ 02-02-2020: num [1:33] 0 0 0 0 0 0 0 0 0 0 ...\n",
      " $ 03-02-2020: num [1:33] 0 0 0 0 0 0 0 0 0 0 ...\n",
      " $ 04-02-2020: num [1:33] 0 0 0 0 0 0 0 0 0 0 ...\n",
      " $ 05-02-2020: num [1:33] 0 0 0 0 0 0 0 0 0 0 ...\n",
      " $ 06-02-2020: num [1:33] 0 0 0 0 0 0 0 0 0 0 ...\n",
      " $ 07-02-2020: num [1:33] 0 0 0 0 0 0 0 0 0 0 ...\n",
      " $ 08-02-2020: num [1:33] 0 0 0 0 0 0 0 0 0 0 ...\n",
      " $ 09-02-2020: num [1:33] 0 0 0 0 0 0 0 0 0 0 ...\n",
      " $ 10-02-2020: num [1:33] 0 0 0 0 0 0 0 0 0 0 ...\n",
      " $ 11-02-2020: num [1:33] 0 0 0 0 0 0 0 0 0 0 ...\n",
      " $ 12-02-2020: num [1:33] 0 1 0 0 0 0 0 0 0 0 ...\n",
      " $ 13-02-2020: num [1:33] 0 0 0 0 0 0 0 0 0 0 ...\n",
      " $ 14-02-2020: num [1:33] 0 0 0 0 0 0 0 0 0 0 ...\n",
      " $ 15-02-2020: num [1:33] 0 0 0 0 0 0 0 0 0 0 ...\n",
      " $ 16-02-2020: num [1:33] 0 0 0 0 0 0 0 0 0 0 ...\n",
      " $ 17-02-2020: num [1:33] 0 0 0 0 0 0 0 0 0 0 ...\n",
      " $ 18-02-2020: num [1:33] 0 0 0 0 0 0 0 0 0 0 ...\n",
      " $ 19-02-2020: num [1:33] 0 0 0 0 0 0 0 0 0 0 ...\n",
      " $ 20-02-2020: num [1:33] 0 0 0 0 0 0 0 0 0 0 ...\n",
      " $ 21-02-2020: num [1:33] 0 0 0 0 0 0 0 0 0 0 ...\n",
      " $ 22-02-2020: num [1:33] 0 0 0 0 0 0 0 0 0 0 ...\n",
      " $ 23-02-2020: num [1:33] 0 0 0 0 0 0 0 0 0 0 ...\n",
      " $ 24-02-2020: num [1:33] 0 0 0 0 0 0 0 0 0 0 ...\n",
      " $ 25-02-2020: num [1:33] 0 0 0 0 0 0 0 0 0 0 ...\n",
      " $ 26-02-2020: num [1:33] 0 0 0 0 0 0 0 0 0 0 ...\n",
      " $ 27-02-2020: num [1:33] 0 0 0 0 0 0 3 0 0 0 ...\n",
      " $ 28-02-2020: num [1:33] 0 0 0 0 0 0 0 1 0 0 ...\n",
      " $ 29-02-2020: num [1:33] 0 0 0 0 1 0 0 0 0 0 ...\n",
      " $ 01-03-2020: num [1:33] 0 0 0 0 0 0 0 0 0 0 ...\n",
      " $ 02-03-2020: num [1:33] 0 0 0 0 0 0 0 0 0 0 ...\n",
      " $ 03-03-2020: num [1:33] 0 0 0 0 0 0 0 0 0 0 ...\n",
      " $ 04-03-2020: num [1:33] 0 0 0 0 0 0 0 0 0 0 ...\n",
      " $ 05-03-2020: num [1:33] 0 0 0 0 0 0 1 0 0 0 ...\n",
      " $ 06-03-2020: num [1:33] 0 0 0 0 0 0 0 0 0 0 ...\n",
      " $ 07-03-2020: num [1:33] 0 0 0 0 0 0 1 0 0 0 ...\n",
      " $ 08-03-2020: num [1:33] 0 0 0 1 0 0 1 0 0 0 ...\n",
      " $ 09-03-2020: num [1:33] 0 0 0 0 0 0 0 0 0 0 ...\n",
      " $ 10-03-2020: num [1:33] 0 0 0 0 0 0 3 0 0 0 ...\n",
      " $ 11-03-2020: num [1:33] 0 1 0 0 0 0 12 2 0 1 ...\n",
      " $ 12-03-2020: num [1:33] 0 0 0 1 0 0 17 0 0 0 ...\n",
      " $ 13-03-2020: num [1:33] 0 0 0 0 0 1 24 0 0 1 ...\n",
      " $ 14-03-2020: num [1:33] 1 0 0 1 0 1 21 0 1 1 ...\n",
      " $ 15-03-2020: num [1:33] 0 0 0 0 0 0 10 0 0 0 ...\n",
      " $ 16-03-2020: num [1:33] 0 1 0 0 0 0 26 1 1 0 ...\n",
      " $ 17-03-2020: num [1:33] 1 3 0 0 0 0 34 2 0 1 ...\n",
      " $ 18-03-2020: num [1:33] 3 4 1 0 1 1 31 2 0 1 ...\n",
      " $ 19-03-2020: num [1:33] 1 5 0 0 0 1 39 3 0 0 ...\n",
      " $ 20-03-2020: num [1:33] 2 6 1 0 0 3 24 4 0 0 ...\n",
      " $ 21-03-2020: num [1:33] 1 3 1 0 0 1 12 0 0 1 ...\n",
      " $ 22-03-2020: num [1:33] 1 2 0 0 0 1 11 0 0 0 ...\n",
      " $ 23-03-2020: num [1:33] 4 10 4 1 3 0 25 1 0 1 ...\n",
      " $ 24-03-2020: num [1:33] 0 9 2 0 0 1 35 6 1 1 ...\n",
      " $ 25-03-2020: num [1:33] 17 7 0 0 2 2 25 0 0 1 ...\n",
      " $ 26-03-2020: num [1:33] 3 11 2 1 0 2 50 3 0 0 ...\n",
      " $ 27-03-2020: num [1:33] 6 16 4 3 5 2 39 4 0 0 ...\n",
      " $ 28-03-2020: num [1:33] 5 7 4 0 1 2 49 4 0 0 ...\n",
      " $ 29-03-2020: num [1:33] 3 21 1 1 0 5 35 8 0 0 ...\n",
      " $ 30-03-2020: num [1:33] 4 29 13 0 2 3 77 18 1 2 ...\n",
      " $ 31-03-2020: num [1:33] 1 44 7 0 2 5 51 14 1 2 ...\n",
      " $ 01-04-2020: num [1:33] 0 65 5 0 4 7 55 19 2 1 ...\n",
      " $ 02-04-2020: num [1:33] 0 29 11 2 2 6 71 19 0 0 ...\n",
      " $ 03-04-2020: num [1:33] 2 38 16 1 5 5 79 21 0 0 ...\n",
      " $ 04-04-2020: num [1:33] 0 25 5 0 1 9 57 11 0 0 ...\n",
      " $ 05-04-2020: num [1:33] 2 20 5 3 1 12 55 4 0 0 ...\n",
      " $ 06-04-2020: num [1:33] 4 68 23 2 5 11 117 25 0 1 ...\n",
      " $ 07-04-2020: num [1:33] 1 41 24 0 2 7 127 8 0 0 ...\n",
      " $ 08-04-2020: num [1:33] 1 58 24 0 6 10 125 16 0 1 ...\n",
      " $ 09-04-2020: num [1:33] 0 58 22 2 3 8 127 6 0 1 ...\n",
      " $ 10-04-2020: num [1:33] 3 48 9 1 3 12 147 11 0 0 ...\n",
      " $ 11-04-2020: num [1:33] 1 33 7 5 1 13 110 9 1 1 ...\n",
      " $ 12-04-2020: num [1:33] 2 44 5 2 0 9 114 6 2 0 ...\n",
      " $ 13-04-2020: num [1:33] 7 81 14 2 5 18 268 15 0 0 ...\n",
      " $ 14-04-2020: num [1:33] 2 103 17 4 5 13 247 16 0 0 ...\n",
      " $ 15-04-2020: num [1:33] 12 102 5 3 6 20 226 16 1 2 ...\n",
      " $ 16-04-2020: num [1:33] 7 85 9 4 3 26 250 5 2 2 ...\n",
      "  [list output truncated]\n",
      " - attr(*, \"spec\")=\n",
      "  .. cols(\n",
      "  ..   cve_ent = \u001b[31mcol_character()\u001b[39m,\n",
      "  ..   poblacion = \u001b[32mcol_double()\u001b[39m,\n",
      "  ..   nombre = \u001b[31mcol_character()\u001b[39m,\n",
      "  ..   `12-01-2020` = \u001b[32mcol_double()\u001b[39m,\n",
      "  ..   `13-01-2020` = \u001b[32mcol_double()\u001b[39m,\n",
      "  ..   `14-01-2020` = \u001b[32mcol_double()\u001b[39m,\n",
      "  ..   `15-01-2020` = \u001b[32mcol_double()\u001b[39m,\n",
      "  ..   `16-01-2020` = \u001b[32mcol_double()\u001b[39m,\n",
      "  ..   `17-01-2020` = \u001b[32mcol_double()\u001b[39m,\n",
      "  ..   `18-01-2020` = \u001b[32mcol_double()\u001b[39m,\n",
      "  ..   `19-01-2020` = \u001b[32mcol_double()\u001b[39m,\n",
      "  ..   `20-01-2020` = \u001b[32mcol_double()\u001b[39m,\n",
      "  ..   `21-01-2020` = \u001b[32mcol_double()\u001b[39m,\n",
      "  ..   `22-01-2020` = \u001b[32mcol_double()\u001b[39m,\n",
      "  ..   `23-01-2020` = \u001b[32mcol_double()\u001b[39m,\n",
      "  ..   `24-01-2020` = \u001b[32mcol_double()\u001b[39m,\n",
      "  ..   `25-01-2020` = \u001b[32mcol_double()\u001b[39m,\n",
      "  ..   `26-01-2020` = \u001b[32mcol_double()\u001b[39m,\n",
      "  ..   `27-01-2020` = \u001b[32mcol_double()\u001b[39m,\n",
      "  ..   `28-01-2020` = \u001b[32mcol_double()\u001b[39m,\n",
      "  ..   `29-01-2020` = \u001b[32mcol_double()\u001b[39m,\n",
      "  ..   `30-01-2020` = \u001b[32mcol_double()\u001b[39m,\n",
      "  ..   `31-01-2020` = \u001b[32mcol_double()\u001b[39m,\n",
      "  ..   `01-02-2020` = \u001b[32mcol_double()\u001b[39m,\n",
      "  ..   `02-02-2020` = \u001b[32mcol_double()\u001b[39m,\n",
      "  ..   `03-02-2020` = \u001b[32mcol_double()\u001b[39m,\n",
      "  ..   `04-02-2020` = \u001b[32mcol_double()\u001b[39m,\n",
      "  ..   `05-02-2020` = \u001b[32mcol_double()\u001b[39m,\n",
      "  ..   `06-02-2020` = \u001b[32mcol_double()\u001b[39m,\n",
      "  ..   `07-02-2020` = \u001b[32mcol_double()\u001b[39m,\n",
      "  ..   `08-02-2020` = \u001b[32mcol_double()\u001b[39m,\n",
      "  ..   `09-02-2020` = \u001b[32mcol_double()\u001b[39m,\n",
      "  ..   `10-02-2020` = \u001b[32mcol_double()\u001b[39m,\n",
      "  ..   `11-02-2020` = \u001b[32mcol_double()\u001b[39m,\n",
      "  ..   `12-02-2020` = \u001b[32mcol_double()\u001b[39m,\n",
      "  ..   `13-02-2020` = \u001b[32mcol_double()\u001b[39m,\n",
      "  ..   `14-02-2020` = \u001b[32mcol_double()\u001b[39m,\n",
      "  ..   `15-02-2020` = \u001b[32mcol_double()\u001b[39m,\n",
      "  ..   `16-02-2020` = \u001b[32mcol_double()\u001b[39m,\n",
      "  ..   `17-02-2020` = \u001b[32mcol_double()\u001b[39m,\n",
      "  ..   `18-02-2020` = \u001b[32mcol_double()\u001b[39m,\n",
      "  ..   `19-02-2020` = \u001b[32mcol_double()\u001b[39m,\n",
      "  ..   `20-02-2020` = \u001b[32mcol_double()\u001b[39m,\n",
      "  ..   `21-02-2020` = \u001b[32mcol_double()\u001b[39m,\n",
      "  ..   `22-02-2020` = \u001b[32mcol_double()\u001b[39m,\n",
      "  ..   `23-02-2020` = \u001b[32mcol_double()\u001b[39m,\n",
      "  ..   `24-02-2020` = \u001b[32mcol_double()\u001b[39m,\n",
      "  ..   `25-02-2020` = \u001b[32mcol_double()\u001b[39m,\n",
      "  ..   `26-02-2020` = \u001b[32mcol_double()\u001b[39m,\n",
      "  ..   `27-02-2020` = \u001b[32mcol_double()\u001b[39m,\n",
      "  ..   `28-02-2020` = \u001b[32mcol_double()\u001b[39m,\n",
      "  ..   `29-02-2020` = \u001b[32mcol_double()\u001b[39m,\n",
      "  ..   `01-03-2020` = \u001b[32mcol_double()\u001b[39m,\n",
      "  ..   `02-03-2020` = \u001b[32mcol_double()\u001b[39m,\n",
      "  ..   `03-03-2020` = \u001b[32mcol_double()\u001b[39m,\n",
      "  ..   `04-03-2020` = \u001b[32mcol_double()\u001b[39m,\n",
      "  ..   `05-03-2020` = \u001b[32mcol_double()\u001b[39m,\n",
      "  ..   `06-03-2020` = \u001b[32mcol_double()\u001b[39m,\n",
      "  ..   `07-03-2020` = \u001b[32mcol_double()\u001b[39m,\n",
      "  ..   `08-03-2020` = \u001b[32mcol_double()\u001b[39m,\n",
      "  ..   `09-03-2020` = \u001b[32mcol_double()\u001b[39m,\n",
      "  ..   `10-03-2020` = \u001b[32mcol_double()\u001b[39m,\n",
      "  ..   `11-03-2020` = \u001b[32mcol_double()\u001b[39m,\n",
      "  ..   `12-03-2020` = \u001b[32mcol_double()\u001b[39m,\n",
      "  ..   `13-03-2020` = \u001b[32mcol_double()\u001b[39m,\n",
      "  ..   `14-03-2020` = \u001b[32mcol_double()\u001b[39m,\n",
      "  ..   `15-03-2020` = \u001b[32mcol_double()\u001b[39m,\n",
      "  ..   `16-03-2020` = \u001b[32mcol_double()\u001b[39m,\n",
      "  ..   `17-03-2020` = \u001b[32mcol_double()\u001b[39m,\n",
      "  ..   `18-03-2020` = \u001b[32mcol_double()\u001b[39m,\n",
      "  ..   `19-03-2020` = \u001b[32mcol_double()\u001b[39m,\n",
      "  ..   `20-03-2020` = \u001b[32mcol_double()\u001b[39m,\n",
      "  ..   `21-03-2020` = \u001b[32mcol_double()\u001b[39m,\n",
      "  ..   `22-03-2020` = \u001b[32mcol_double()\u001b[39m,\n",
      "  ..   `23-03-2020` = \u001b[32mcol_double()\u001b[39m,\n",
      "  ..   `24-03-2020` = \u001b[32mcol_double()\u001b[39m,\n",
      "  ..   `25-03-2020` = \u001b[32mcol_double()\u001b[39m,\n",
      "  ..   `26-03-2020` = \u001b[32mcol_double()\u001b[39m,\n",
      "  ..   `27-03-2020` = \u001b[32mcol_double()\u001b[39m,\n",
      "  ..   `28-03-2020` = \u001b[32mcol_double()\u001b[39m,\n",
      "  ..   `29-03-2020` = \u001b[32mcol_double()\u001b[39m,\n",
      "  ..   `30-03-2020` = \u001b[32mcol_double()\u001b[39m,\n",
      "  ..   `31-03-2020` = \u001b[32mcol_double()\u001b[39m,\n",
      "  ..   `01-04-2020` = \u001b[32mcol_double()\u001b[39m,\n",
      "  ..   `02-04-2020` = \u001b[32mcol_double()\u001b[39m,\n",
      "  ..   `03-04-2020` = \u001b[32mcol_double()\u001b[39m,\n",
      "  ..   `04-04-2020` = \u001b[32mcol_double()\u001b[39m,\n",
      "  ..   `05-04-2020` = \u001b[32mcol_double()\u001b[39m,\n",
      "  ..   `06-04-2020` = \u001b[32mcol_double()\u001b[39m,\n",
      "  ..   `07-04-2020` = \u001b[32mcol_double()\u001b[39m,\n",
      "  ..   `08-04-2020` = \u001b[32mcol_double()\u001b[39m,\n",
      "  ..   `09-04-2020` = \u001b[32mcol_double()\u001b[39m,\n",
      "  ..   `10-04-2020` = \u001b[32mcol_double()\u001b[39m,\n",
      "  ..   `11-04-2020` = \u001b[32mcol_double()\u001b[39m,\n",
      "  ..   `12-04-2020` = \u001b[32mcol_double()\u001b[39m,\n",
      "  ..   `13-04-2020` = \u001b[32mcol_double()\u001b[39m,\n",
      "  ..   `14-04-2020` = \u001b[32mcol_double()\u001b[39m,\n",
      "  ..   `15-04-2020` = \u001b[32mcol_double()\u001b[39m,\n",
      "  ..   `16-04-2020` = \u001b[32mcol_double()\u001b[39m,\n",
      "  ..   `17-04-2020` = \u001b[32mcol_double()\u001b[39m,\n",
      "  ..   `18-04-2020` = \u001b[32mcol_double()\u001b[39m,\n",
      "  ..   `19-04-2020` = \u001b[32mcol_double()\u001b[39m,\n",
      "  ..   `20-04-2020` = \u001b[32mcol_double()\u001b[39m,\n",
      "  ..   `21-04-2020` = \u001b[32mcol_double()\u001b[39m,\n",
      "  ..   `22-04-2020` = \u001b[32mcol_double()\u001b[39m,\n",
      "  ..   `23-04-2020` = \u001b[32mcol_double()\u001b[39m,\n",
      "  ..   `24-04-2020` = \u001b[32mcol_double()\u001b[39m,\n",
      "  ..   `25-04-2020` = \u001b[32mcol_double()\u001b[39m,\n",
      "  ..   `26-04-2020` = \u001b[32mcol_double()\u001b[39m,\n",
      "  ..   `27-04-2020` = \u001b[32mcol_double()\u001b[39m,\n",
      "  ..   `28-04-2020` = \u001b[32mcol_double()\u001b[39m,\n",
      "  ..   `29-04-2020` = \u001b[32mcol_double()\u001b[39m,\n",
      "  ..   `30-04-2020` = \u001b[32mcol_double()\u001b[39m,\n",
      "  ..   `01-05-2020` = \u001b[32mcol_double()\u001b[39m,\n",
      "  ..   `02-05-2020` = \u001b[32mcol_double()\u001b[39m,\n",
      "  ..   `03-05-2020` = \u001b[32mcol_double()\u001b[39m,\n",
      "  ..   `04-05-2020` = \u001b[32mcol_double()\u001b[39m,\n",
      "  ..   `05-05-2020` = \u001b[32mcol_double()\u001b[39m,\n",
      "  ..   `06-05-2020` = \u001b[32mcol_double()\u001b[39m,\n",
      "  ..   `07-05-2020` = \u001b[32mcol_double()\u001b[39m,\n",
      "  ..   `08-05-2020` = \u001b[32mcol_double()\u001b[39m,\n",
      "  ..   `09-05-2020` = \u001b[32mcol_double()\u001b[39m,\n",
      "  ..   `10-05-2020` = \u001b[32mcol_double()\u001b[39m,\n",
      "  ..   `11-05-2020` = \u001b[32mcol_double()\u001b[39m,\n",
      "  ..   `12-05-2020` = \u001b[32mcol_double()\u001b[39m,\n",
      "  ..   `13-05-2020` = \u001b[32mcol_double()\u001b[39m,\n",
      "  ..   `14-05-2020` = \u001b[32mcol_double()\u001b[39m,\n",
      "  ..   `15-05-2020` = \u001b[32mcol_double()\u001b[39m,\n",
      "  ..   `16-05-2020` = \u001b[32mcol_double()\u001b[39m,\n",
      "  ..   `17-05-2020` = \u001b[32mcol_double()\u001b[39m,\n",
      "  ..   `18-05-2020` = \u001b[32mcol_double()\u001b[39m,\n",
      "  ..   `19-05-2020` = \u001b[32mcol_double()\u001b[39m,\n",
      "  ..   `20-05-2020` = \u001b[32mcol_double()\u001b[39m,\n",
      "  ..   `21-05-2020` = \u001b[32mcol_double()\u001b[39m,\n",
      "  ..   `22-05-2020` = \u001b[32mcol_double()\u001b[39m,\n",
      "  ..   `23-05-2020` = \u001b[32mcol_double()\u001b[39m,\n",
      "  ..   `24-05-2020` = \u001b[32mcol_double()\u001b[39m,\n",
      "  ..   `25-05-2020` = \u001b[32mcol_double()\u001b[39m,\n",
      "  ..   `26-05-2020` = \u001b[32mcol_double()\u001b[39m,\n",
      "  ..   `27-05-2020` = \u001b[32mcol_double()\u001b[39m,\n",
      "  ..   `28-05-2020` = \u001b[32mcol_double()\u001b[39m,\n",
      "  ..   `29-05-2020` = \u001b[32mcol_double()\u001b[39m,\n",
      "  ..   `30-05-2020` = \u001b[32mcol_double()\u001b[39m,\n",
      "  ..   `31-05-2020` = \u001b[32mcol_double()\u001b[39m,\n",
      "  ..   `01-06-2020` = \u001b[32mcol_double()\u001b[39m,\n",
      "  ..   `02-06-2020` = \u001b[32mcol_double()\u001b[39m,\n",
      "  ..   `03-06-2020` = \u001b[32mcol_double()\u001b[39m,\n",
      "  ..   `04-06-2020` = \u001b[32mcol_double()\u001b[39m,\n",
      "  ..   `05-06-2020` = \u001b[32mcol_double()\u001b[39m,\n",
      "  ..   `06-06-2020` = \u001b[32mcol_double()\u001b[39m,\n",
      "  ..   `07-06-2020` = \u001b[32mcol_double()\u001b[39m,\n",
      "  ..   `08-06-2020` = \u001b[32mcol_double()\u001b[39m,\n",
      "  ..   `09-06-2020` = \u001b[32mcol_double()\u001b[39m,\n",
      "  ..   `10-06-2020` = \u001b[32mcol_double()\u001b[39m,\n",
      "  ..   `11-06-2020` = \u001b[32mcol_double()\u001b[39m,\n",
      "  ..   `12-06-2020` = \u001b[32mcol_double()\u001b[39m,\n",
      "  ..   `13-06-2020` = \u001b[32mcol_double()\u001b[39m,\n",
      "  ..   `14-06-2020` = \u001b[32mcol_double()\u001b[39m,\n",
      "  ..   `15-06-2020` = \u001b[32mcol_double()\u001b[39m,\n",
      "  ..   `16-06-2020` = \u001b[32mcol_double()\u001b[39m,\n",
      "  ..   `17-06-2020` = \u001b[32mcol_double()\u001b[39m,\n",
      "  ..   `18-06-2020` = \u001b[32mcol_double()\u001b[39m,\n",
      "  ..   `19-06-2020` = \u001b[32mcol_double()\u001b[39m,\n",
      "  ..   `20-06-2020` = \u001b[32mcol_double()\u001b[39m,\n",
      "  ..   `21-06-2020` = \u001b[32mcol_double()\u001b[39m,\n",
      "  ..   `22-06-2020` = \u001b[32mcol_double()\u001b[39m,\n",
      "  ..   `23-06-2020` = \u001b[32mcol_double()\u001b[39m,\n",
      "  ..   `24-06-2020` = \u001b[32mcol_double()\u001b[39m,\n",
      "  ..   `25-06-2020` = \u001b[32mcol_double()\u001b[39m,\n",
      "  ..   `26-06-2020` = \u001b[32mcol_double()\u001b[39m,\n",
      "  ..   `27-06-2020` = \u001b[32mcol_double()\u001b[39m,\n",
      "  ..   `28-06-2020` = \u001b[32mcol_double()\u001b[39m,\n",
      "  ..   `29-06-2020` = \u001b[32mcol_double()\u001b[39m,\n",
      "  ..   `30-06-2020` = \u001b[32mcol_double()\u001b[39m,\n",
      "  ..   `01-07-2020` = \u001b[32mcol_double()\u001b[39m,\n",
      "  ..   `02-07-2020` = \u001b[32mcol_double()\u001b[39m,\n",
      "  ..   `03-07-2020` = \u001b[32mcol_double()\u001b[39m,\n",
      "  ..   `04-07-2020` = \u001b[32mcol_double()\u001b[39m,\n",
      "  ..   `05-07-2020` = \u001b[32mcol_double()\u001b[39m,\n",
      "  ..   `06-07-2020` = \u001b[32mcol_double()\u001b[39m,\n",
      "  ..   `07-07-2020` = \u001b[32mcol_double()\u001b[39m,\n",
      "  ..   `08-07-2020` = \u001b[32mcol_double()\u001b[39m,\n",
      "  ..   `09-07-2020` = \u001b[32mcol_double()\u001b[39m,\n",
      "  ..   `10-07-2020` = \u001b[32mcol_double()\u001b[39m,\n",
      "  ..   `11-07-2020` = \u001b[32mcol_double()\u001b[39m,\n",
      "  ..   `12-07-2020` = \u001b[32mcol_double()\u001b[39m,\n",
      "  ..   `13-07-2020` = \u001b[32mcol_double()\u001b[39m,\n",
      "  ..   `14-07-2020` = \u001b[32mcol_double()\u001b[39m,\n",
      "  ..   `15-07-2020` = \u001b[32mcol_double()\u001b[39m\n",
      "  .. )\n"
     ]
    }
   ],
   "source": [
    "str(covid_mex)"
   ]
  },
  {
   "cell_type": "markdown",
   "metadata": {},
   "source": [
    "Pasamos la base a _long format_"
   ]
  },
  {
   "cell_type": "code",
   "execution_count": 135,
   "metadata": {},
   "outputs": [],
   "source": [
    "df_long<-df %>%\n",
    "    pivot_longer(cols=starts_with(\"X\"),\n",
    "                 names_to=\"fecha\",\n",
    "                 values_to=\"casos\")"
   ]
  },
  {
   "cell_type": "code",
   "execution_count": 136,
   "metadata": {},
   "outputs": [
    {
     "data": {
      "text/html": [
       "<table>\n",
       "<thead><tr><th scope=col>cve_ent</th><th scope=col>poblacion</th><th scope=col>nombre</th><th scope=col>fecha</th><th scope=col>casos</th></tr></thead>\n",
       "<tbody>\n",
       "\t<tr><td>1             </td><td>1434635       </td><td>AGUASCALIENTES</td><td>X12.01.2020   </td><td>0             </td></tr>\n",
       "\t<tr><td>1             </td><td>1434635       </td><td>AGUASCALIENTES</td><td>X13.01.2020   </td><td>0             </td></tr>\n",
       "\t<tr><td>1             </td><td>1434635       </td><td>AGUASCALIENTES</td><td>X14.01.2020   </td><td>0             </td></tr>\n",
       "\t<tr><td>1             </td><td>1434635       </td><td>AGUASCALIENTES</td><td>X15.01.2020   </td><td>0             </td></tr>\n",
       "\t<tr><td>1             </td><td>1434635       </td><td>AGUASCALIENTES</td><td>X16.01.2020   </td><td>0             </td></tr>\n",
       "\t<tr><td>1             </td><td>1434635       </td><td>AGUASCALIENTES</td><td>X17.01.2020   </td><td>0             </td></tr>\n",
       "</tbody>\n",
       "</table>\n"
      ],
      "text/latex": [
       "\\begin{tabular}{r|lllll}\n",
       " cve\\_ent & poblacion & nombre & fecha & casos\\\\\n",
       "\\hline\n",
       "\t 1              & 1434635        & AGUASCALIENTES & X12.01.2020    & 0             \\\\\n",
       "\t 1              & 1434635        & AGUASCALIENTES & X13.01.2020    & 0             \\\\\n",
       "\t 1              & 1434635        & AGUASCALIENTES & X14.01.2020    & 0             \\\\\n",
       "\t 1              & 1434635        & AGUASCALIENTES & X15.01.2020    & 0             \\\\\n",
       "\t 1              & 1434635        & AGUASCALIENTES & X16.01.2020    & 0             \\\\\n",
       "\t 1              & 1434635        & AGUASCALIENTES & X17.01.2020    & 0             \\\\\n",
       "\\end{tabular}\n"
      ],
      "text/markdown": [
       "\n",
       "| cve_ent | poblacion | nombre | fecha | casos |\n",
       "|---|---|---|---|---|\n",
       "| 1              | 1434635        | AGUASCALIENTES | X12.01.2020    | 0              |\n",
       "| 1              | 1434635        | AGUASCALIENTES | X13.01.2020    | 0              |\n",
       "| 1              | 1434635        | AGUASCALIENTES | X14.01.2020    | 0              |\n",
       "| 1              | 1434635        | AGUASCALIENTES | X15.01.2020    | 0              |\n",
       "| 1              | 1434635        | AGUASCALIENTES | X16.01.2020    | 0              |\n",
       "| 1              | 1434635        | AGUASCALIENTES | X17.01.2020    | 0              |\n",
       "\n"
      ],
      "text/plain": [
       "  cve_ent poblacion nombre         fecha       casos\n",
       "1 1       1434635   AGUASCALIENTES X12.01.2020 0    \n",
       "2 1       1434635   AGUASCALIENTES X13.01.2020 0    \n",
       "3 1       1434635   AGUASCALIENTES X14.01.2020 0    \n",
       "4 1       1434635   AGUASCALIENTES X15.01.2020 0    \n",
       "5 1       1434635   AGUASCALIENTES X16.01.2020 0    \n",
       "6 1       1434635   AGUASCALIENTES X17.01.2020 0    "
      ]
     },
     "metadata": {},
     "output_type": "display_data"
    }
   ],
   "source": [
    "head(df_long)"
   ]
  },
  {
   "cell_type": "markdown",
   "metadata": {},
   "source": [
    "Pasamos la columna de fecha a formato de fecha en R"
   ]
  },
  {
   "cell_type": "code",
   "execution_count": 137,
   "metadata": {},
   "outputs": [],
   "source": [
    "df_long$fecha<- df_long$fecha %>%\n",
    "                    str_remove(\"X\") %>%\n",
    "                    dmy()"
   ]
  },
  {
   "cell_type": "code",
   "execution_count": 138,
   "metadata": {},
   "outputs": [],
   "source": [
    "df_long<-rename(df_long, estado=nombre)"
   ]
  },
  {
   "cell_type": "code",
   "execution_count": 139,
   "metadata": {},
   "outputs": [
    {
     "name": "stdout",
     "output_type": "stream",
     "text": [
      "tibble [6,138 x 5] (S3: tbl_df/tbl/data.frame)\n",
      " $ cve_ent  : int [1:6138] 1 1 1 1 1 1 1 1 1 1 ...\n",
      " $ poblacion: int [1:6138] 1434635 1434635 1434635 1434635 1434635 1434635 1434635 1434635 1434635 1434635 ...\n",
      " $ estado   : Factor w/ 33 levels \"AGUASCALIENTES\",..: 1 1 1 1 1 1 1 1 1 1 ...\n",
      " $ fecha    : Date[1:6138], format: \"2020-01-12\" \"2020-01-13\" ...\n",
      " $ casos    : int [1:6138] 0 0 0 0 0 0 0 0 0 0 ...\n"
     ]
    }
   ],
   "source": [
    "str(df_long)"
   ]
  },
  {
   "cell_type": "markdown",
   "metadata": {},
   "source": [
    "### **Análisis exploratorio**"
   ]
  },
  {
   "cell_type": "markdown",
   "metadata": {},
   "source": [
    "Primero veremos el comportamiento a nivel nacional de la cantidad de confirmados"
   ]
  },
  {
   "cell_type": "code",
   "execution_count": 43,
   "metadata": {},
   "outputs": [
    {
     "data": {
      "image/png": "[encoded data removed]",
      "text/plain": [
       "plot without title"
      ]
     },
     "metadata": {},
     "output_type": "display_data"
    }
   ],
   "source": [
    "ggplot(subset(df_long,estado=='Nacional'), aes(x= fecha, y=casos)) +\n",
    "  geom_line()"
   ]
  },
  {
   "cell_type": "markdown",
   "metadata": {},
   "source": [
    "Podemos observar que hay picos en la cantidad de casos, hay más casos entre semana y los fines de semana disminuyen. Esto puede deberse a un retraso administrativo en el reporte de casos durante el fin de semana por parte de la Secretaría de Salud. \n",
    "También podemos observar que parece haber una diminución de casos durante el mes de julio, pero esto también se debe a un retraso en el reporte de casos confirmados. "
   ]
  },
  {
   "cell_type": "markdown",
   "metadata": {},
   "source": [
    "Ahora, veremos el comportamiento de casos confirmados a nivel estatal"
   ]
  },
  {
   "cell_type": "code",
   "execution_count": 44,
   "metadata": {},
   "outputs": [
    {
     "data": {
      "image/png": "[encoded data removed]",
      "text/plain": [
       "plot without title"
      ]
     },
     "metadata": {},
     "output_type": "display_data"
    }
   ],
   "source": [
    "ggplot(data=df_long, aes(x= fecha, y=casos)) +\n",
    "    geom_line() +\n",
    "    facet_wrap(~estado)"
   ]
  },
  {
   "cell_type": "code",
   "execution_count": null,
   "metadata": {},
   "outputs": [],
   "source": [
    "ggplot(data=df_long, aes(x= fecha, y=casos)) +\n",
    "    geom_line() +\n",
    "    facet_wrap(~estado)"
   ]
  },
  {
   "cell_type": "code",
   "execution_count": null,
   "metadata": {},
   "outputs": [],
   "source": []
  },
  {
   "cell_type": "code",
   "execution_count": 180,
   "metadata": {},
   "outputs": [
    {
     "data": {
      "text/html": [
       "<table>\n",
       "<thead><tr><th scope=col>cve_ent</th><th scope=col>poblacion</th><th scope=col>estado</th><th scope=col>fecha</th><th scope=col>casos</th></tr></thead>\n",
       "<tbody>\n",
       "\t<tr><td>1                  </td><td>1434635            </td><td>AGUASCALIENTES     </td><td>2020-01-12         </td><td> 0                 </td></tr>\n",
       "\t<tr><td>1                  </td><td>1434635            </td><td>AGUASCALIENTES     </td><td>2020-01-30         </td><td> 0                 </td></tr>\n",
       "\t<tr><td>1                  </td><td>1434635            </td><td>AGUASCALIENTES     </td><td>2020-02-17         </td><td> 0                 </td></tr>\n",
       "\t<tr><td>1                  </td><td>1434635            </td><td>AGUASCALIENTES     </td><td>2020-03-06         </td><td> 0                 </td></tr>\n",
       "\t<tr><td>1                  </td><td>1434635            </td><td>AGUASCALIENTES     </td><td>2020-03-24         </td><td> 0                 </td></tr>\n",
       "\t<tr><td>1                  </td><td>1434635            </td><td>AGUASCALIENTES     </td><td>2020-04-11         </td><td> 1                 </td></tr>\n",
       "\t<tr><td>1                  </td><td>1434635            </td><td>AGUASCALIENTES     </td><td>2020-04-29         </td><td>18                 </td></tr>\n",
       "\t<tr><td>1                  </td><td>1434635            </td><td>AGUASCALIENTES     </td><td>2020-05-17         </td><td> 7                 </td></tr>\n",
       "\t<tr><td>1                  </td><td>1434635            </td><td>AGUASCALIENTES     </td><td>2020-06-04         </td><td>44                 </td></tr>\n",
       "\t<tr><td>1                  </td><td>1434635            </td><td>AGUASCALIENTES     </td><td>2020-06-22         </td><td>68                 </td></tr>\n",
       "\t<tr><td>1                  </td><td>1434635            </td><td>AGUASCALIENTES     </td><td>2020-07-10         </td><td>75                 </td></tr>\n",
       "\t<tr><td>3                  </td><td> 804708            </td><td>BAJA CALIFORNIA SUR</td><td>2020-01-19         </td><td> 0                 </td></tr>\n",
       "\t<tr><td>3                  </td><td> 804708            </td><td>BAJA CALIFORNIA SUR</td><td>2020-02-06         </td><td> 0                 </td></tr>\n",
       "\t<tr><td>3                  </td><td> 804708            </td><td>BAJA CALIFORNIA SUR</td><td>2020-02-24         </td><td> 0                 </td></tr>\n",
       "\t<tr><td>3                  </td><td> 804708            </td><td>BAJA CALIFORNIA SUR</td><td>2020-03-13         </td><td> 0                 </td></tr>\n",
       "\t<tr><td>3                  </td><td> 804708            </td><td>BAJA CALIFORNIA SUR</td><td>2020-03-31         </td><td> 7                 </td></tr>\n",
       "\t<tr><td>3                  </td><td> 804708            </td><td>BAJA CALIFORNIA SUR</td><td>2020-04-18         </td><td> 3                 </td></tr>\n",
       "\t<tr><td>3                  </td><td> 804708            </td><td>BAJA CALIFORNIA SUR</td><td>2020-05-06         </td><td>10                 </td></tr>\n",
       "\t<tr><td>3                  </td><td> 804708            </td><td>BAJA CALIFORNIA SUR</td><td>2020-05-24         </td><td> 9                 </td></tr>\n",
       "\t<tr><td>3                  </td><td> 804708            </td><td>BAJA CALIFORNIA SUR</td><td>2020-06-11         </td><td>29                 </td></tr>\n",
       "\t<tr><td>3                  </td><td> 804708            </td><td>BAJA CALIFORNIA SUR</td><td>2020-06-29         </td><td>63                 </td></tr>\n",
       "\t<tr><td>4                  </td><td>1000617            </td><td>CAMPECHE           </td><td>2020-01-14         </td><td> 0                 </td></tr>\n",
       "\t<tr><td>4                  </td><td>1000617            </td><td>CAMPECHE           </td><td>2020-02-01         </td><td> 0                 </td></tr>\n",
       "\t<tr><td>4                  </td><td>1000617            </td><td>CAMPECHE           </td><td>2020-02-19         </td><td> 0                 </td></tr>\n",
       "\t<tr><td>4                  </td><td>1000617            </td><td>CAMPECHE           </td><td>2020-03-08         </td><td> 1                 </td></tr>\n",
       "\t<tr><td>4                  </td><td>1000617            </td><td>CAMPECHE           </td><td>2020-03-26         </td><td> 1                 </td></tr>\n",
       "\t<tr><td>4                  </td><td>1000617            </td><td>CAMPECHE           </td><td>2020-04-13         </td><td> 2                 </td></tr>\n",
       "\t<tr><td>4                  </td><td>1000617            </td><td>CAMPECHE           </td><td>2020-05-01         </td><td> 6                 </td></tr>\n",
       "\t<tr><td>4                  </td><td>1000617            </td><td>CAMPECHE           </td><td>2020-05-19         </td><td>21                 </td></tr>\n",
       "\t<tr><td>4                  </td><td>1000617            </td><td>CAMPECHE           </td><td>2020-06-06         </td><td>24                 </td></tr>\n",
       "\t<tr><td>...</td><td>...</td><td>...</td><td>...</td><td>...</td></tr>\n",
       "\t<tr><td>30        </td><td>8539862   </td><td>VERACRUZ  </td><td>2020-02-02</td><td>  0       </td></tr>\n",
       "\t<tr><td>30        </td><td>8539862   </td><td>VERACRUZ  </td><td>2020-02-20</td><td>  0       </td></tr>\n",
       "\t<tr><td>30        </td><td>8539862   </td><td>VERACRUZ  </td><td>2020-03-09</td><td>  0       </td></tr>\n",
       "\t<tr><td>30        </td><td>8539862   </td><td>VERACRUZ  </td><td>2020-03-27</td><td>  1       </td></tr>\n",
       "\t<tr><td>30        </td><td>8539862   </td><td>VERACRUZ  </td><td>2020-04-14</td><td> 13       </td></tr>\n",
       "\t<tr><td>30        </td><td>8539862   </td><td>VERACRUZ  </td><td>2020-05-02</td><td> 65       </td></tr>\n",
       "\t<tr><td>30        </td><td>8539862   </td><td>VERACRUZ  </td><td>2020-05-20</td><td>181       </td></tr>\n",
       "\t<tr><td>30        </td><td>8539862   </td><td>VERACRUZ  </td><td>2020-06-07</td><td>103       </td></tr>\n",
       "\t<tr><td>30        </td><td>8539862   </td><td>VERACRUZ  </td><td>2020-06-25</td><td>314       </td></tr>\n",
       "\t<tr><td>30        </td><td>8539862   </td><td>VERACRUZ  </td><td>2020-07-13</td><td>  5       </td></tr>\n",
       "\t<tr><td>31        </td><td>2259098   </td><td>YUCATAN   </td><td>2020-01-28</td><td>  0       </td></tr>\n",
       "\t<tr><td>31        </td><td>2259098   </td><td>YUCATAN   </td><td>2020-02-15</td><td>  0       </td></tr>\n",
       "\t<tr><td>31        </td><td>2259098   </td><td>YUCATAN   </td><td>2020-03-04</td><td>  0       </td></tr>\n",
       "\t<tr><td>31        </td><td>2259098   </td><td>YUCATAN   </td><td>2020-03-22</td><td>  8       </td></tr>\n",
       "\t<tr><td>31        </td><td>2259098   </td><td>YUCATAN   </td><td>2020-04-09</td><td> 11       </td></tr>\n",
       "\t<tr><td>31        </td><td>2259098   </td><td>YUCATAN   </td><td>2020-04-27</td><td> 37       </td></tr>\n",
       "\t<tr><td>31        </td><td>2259098   </td><td>YUCATAN   </td><td>2020-05-15</td><td> 42       </td></tr>\n",
       "\t<tr><td>31        </td><td>2259098   </td><td>YUCATAN   </td><td>2020-06-02</td><td> 48       </td></tr>\n",
       "\t<tr><td>31        </td><td>2259098   </td><td>YUCATAN   </td><td>2020-06-20</td><td> 94       </td></tr>\n",
       "\t<tr><td>31        </td><td>2259098   </td><td>YUCATAN   </td><td>2020-07-08</td><td>162       </td></tr>\n",
       "\t<tr><td>32        </td><td>1666426   </td><td>ZACATECAS </td><td>2020-01-23</td><td>  0       </td></tr>\n",
       "\t<tr><td>32        </td><td>1666426   </td><td>ZACATECAS </td><td>2020-02-10</td><td>  0       </td></tr>\n",
       "\t<tr><td>32        </td><td>1666426   </td><td>ZACATECAS </td><td>2020-02-28</td><td>  0       </td></tr>\n",
       "\t<tr><td>32        </td><td>1666426   </td><td>ZACATECAS </td><td>2020-03-17</td><td>  0       </td></tr>\n",
       "\t<tr><td>32        </td><td>1666426   </td><td>ZACATECAS </td><td>2020-04-04</td><td>  1       </td></tr>\n",
       "\t<tr><td>32        </td><td>1666426   </td><td>ZACATECAS </td><td>2020-04-22</td><td>  2       </td></tr>\n",
       "\t<tr><td>32        </td><td>1666426   </td><td>ZACATECAS </td><td>2020-05-10</td><td>  2       </td></tr>\n",
       "\t<tr><td>32        </td><td>1666426   </td><td>ZACATECAS </td><td>2020-05-28</td><td>  7       </td></tr>\n",
       "\t<tr><td>32        </td><td>1666426   </td><td>ZACATECAS </td><td>2020-06-15</td><td> 37       </td></tr>\n",
       "\t<tr><td>32        </td><td>1666426   </td><td>ZACATECAS </td><td>2020-07-03</td><td> 49       </td></tr>\n",
       "</tbody>\n",
       "</table>\n"
      ],
      "text/latex": [
       "\\begin{tabular}{r|lllll}\n",
       " cve\\_ent & poblacion & estado & fecha & casos\\\\\n",
       "\\hline\n",
       "\t 1                   & 1434635             & AGUASCALIENTES      & 2020-01-12          &  0                 \\\\\n",
       "\t 1                   & 1434635             & AGUASCALIENTES      & 2020-01-30          &  0                 \\\\\n",
       "\t 1                   & 1434635             & AGUASCALIENTES      & 2020-02-17          &  0                 \\\\\n",
       "\t 1                   & 1434635             & AGUASCALIENTES      & 2020-03-06          &  0                 \\\\\n",
       "\t 1                   & 1434635             & AGUASCALIENTES      & 2020-03-24          &  0                 \\\\\n",
       "\t 1                   & 1434635             & AGUASCALIENTES      & 2020-04-11          &  1                 \\\\\n",
       "\t 1                   & 1434635             & AGUASCALIENTES      & 2020-04-29          & 18                 \\\\\n",
       "\t 1                   & 1434635             & AGUASCALIENTES      & 2020-05-17          &  7                 \\\\\n",
       "\t 1                   & 1434635             & AGUASCALIENTES      & 2020-06-04          & 44                 \\\\\n",
       "\t 1                   & 1434635             & AGUASCALIENTES      & 2020-06-22          & 68                 \\\\\n",
       "\t 1                   & 1434635             & AGUASCALIENTES      & 2020-07-10          & 75                 \\\\\n",
       "\t 3                   &  804708             & BAJA CALIFORNIA SUR & 2020-01-19          &  0                 \\\\\n",
       "\t 3                   &  804708             & BAJA CALIFORNIA SUR & 2020-02-06          &  0                 \\\\\n",
       "\t 3                   &  804708             & BAJA CALIFORNIA SUR & 2020-02-24          &  0                 \\\\\n",
       "\t 3                   &  804708             & BAJA CALIFORNIA SUR & 2020-03-13          &  0                 \\\\\n",
       "\t 3                   &  804708             & BAJA CALIFORNIA SUR & 2020-03-31          &  7                 \\\\\n",
       "\t 3                   &  804708             & BAJA CALIFORNIA SUR & 2020-04-18          &  3                 \\\\\n",
       "\t 3                   &  804708             & BAJA CALIFORNIA SUR & 2020-05-06          & 10                 \\\\\n",
       "\t 3                   &  804708             & BAJA CALIFORNIA SUR & 2020-05-24          &  9                 \\\\\n",
       "\t 3                   &  804708             & BAJA CALIFORNIA SUR & 2020-06-11          & 29                 \\\\\n",
       "\t 3                   &  804708             & BAJA CALIFORNIA SUR & 2020-06-29          & 63                 \\\\\n",
       "\t 4                   & 1000617             & CAMPECHE            & 2020-01-14          &  0                 \\\\\n",
       "\t 4                   & 1000617             & CAMPECHE            & 2020-02-01          &  0                 \\\\\n",
       "\t 4                   & 1000617             & CAMPECHE            & 2020-02-19          &  0                 \\\\\n",
       "\t 4                   & 1000617             & CAMPECHE            & 2020-03-08          &  1                 \\\\\n",
       "\t 4                   & 1000617             & CAMPECHE            & 2020-03-26          &  1                 \\\\\n",
       "\t 4                   & 1000617             & CAMPECHE            & 2020-04-13          &  2                 \\\\\n",
       "\t 4                   & 1000617             & CAMPECHE            & 2020-05-01          &  6                 \\\\\n",
       "\t 4                   & 1000617             & CAMPECHE            & 2020-05-19          & 21                 \\\\\n",
       "\t 4                   & 1000617             & CAMPECHE            & 2020-06-06          & 24                 \\\\\n",
       "\t ... & ... & ... & ... & ...\\\\\n",
       "\t 30         & 8539862    & VERACRUZ   & 2020-02-02 &   0       \\\\\n",
       "\t 30         & 8539862    & VERACRUZ   & 2020-02-20 &   0       \\\\\n",
       "\t 30         & 8539862    & VERACRUZ   & 2020-03-09 &   0       \\\\\n",
       "\t 30         & 8539862    & VERACRUZ   & 2020-03-27 &   1       \\\\\n",
       "\t 30         & 8539862    & VERACRUZ   & 2020-04-14 &  13       \\\\\n",
       "\t 30         & 8539862    & VERACRUZ   & 2020-05-02 &  65       \\\\\n",
       "\t 30         & 8539862    & VERACRUZ   & 2020-05-20 & 181       \\\\\n",
       "\t 30         & 8539862    & VERACRUZ   & 2020-06-07 & 103       \\\\\n",
       "\t 30         & 8539862    & VERACRUZ   & 2020-06-25 & 314       \\\\\n",
       "\t 30         & 8539862    & VERACRUZ   & 2020-07-13 &   5       \\\\\n",
       "\t 31         & 2259098    & YUCATAN    & 2020-01-28 &   0       \\\\\n",
       "\t 31         & 2259098    & YUCATAN    & 2020-02-15 &   0       \\\\\n",
       "\t 31         & 2259098    & YUCATAN    & 2020-03-04 &   0       \\\\\n",
       "\t 31         & 2259098    & YUCATAN    & 2020-03-22 &   8       \\\\\n",
       "\t 31         & 2259098    & YUCATAN    & 2020-04-09 &  11       \\\\\n",
       "\t 31         & 2259098    & YUCATAN    & 2020-04-27 &  37       \\\\\n",
       "\t 31         & 2259098    & YUCATAN    & 2020-05-15 &  42       \\\\\n",
       "\t 31         & 2259098    & YUCATAN    & 2020-06-02 &  48       \\\\\n",
       "\t 31         & 2259098    & YUCATAN    & 2020-06-20 &  94       \\\\\n",
       "\t 31         & 2259098    & YUCATAN    & 2020-07-08 & 162       \\\\\n",
       "\t 32         & 1666426    & ZACATECAS  & 2020-01-23 &   0       \\\\\n",
       "\t 32         & 1666426    & ZACATECAS  & 2020-02-10 &   0       \\\\\n",
       "\t 32         & 1666426    & ZACATECAS  & 2020-02-28 &   0       \\\\\n",
       "\t 32         & 1666426    & ZACATECAS  & 2020-03-17 &   0       \\\\\n",
       "\t 32         & 1666426    & ZACATECAS  & 2020-04-04 &   1       \\\\\n",
       "\t 32         & 1666426    & ZACATECAS  & 2020-04-22 &   2       \\\\\n",
       "\t 32         & 1666426    & ZACATECAS  & 2020-05-10 &   2       \\\\\n",
       "\t 32         & 1666426    & ZACATECAS  & 2020-05-28 &   7       \\\\\n",
       "\t 32         & 1666426    & ZACATECAS  & 2020-06-15 &  37       \\\\\n",
       "\t 32         & 1666426    & ZACATECAS  & 2020-07-03 &  49       \\\\\n",
       "\\end{tabular}\n"
      ],
      "text/markdown": [
       "\n",
       "| cve_ent | poblacion | estado | fecha | casos |\n",
       "|---|---|---|---|---|\n",
       "| 1                   | 1434635             | AGUASCALIENTES      | 2020-01-12          |  0                  |\n",
       "| 1                   | 1434635             | AGUASCALIENTES      | 2020-01-30          |  0                  |\n",
       "| 1                   | 1434635             | AGUASCALIENTES      | 2020-02-17          |  0                  |\n",
       "| 1                   | 1434635             | AGUASCALIENTES      | 2020-03-06          |  0                  |\n",
       "| 1                   | 1434635             | AGUASCALIENTES      | 2020-03-24          |  0                  |\n",
       "| 1                   | 1434635             | AGUASCALIENTES      | 2020-04-11          |  1                  |\n",
       "| 1                   | 1434635             | AGUASCALIENTES      | 2020-04-29          | 18                  |\n",
       "| 1                   | 1434635             | AGUASCALIENTES      | 2020-05-17          |  7                  |\n",
       "| 1                   | 1434635             | AGUASCALIENTES      | 2020-06-04          | 44                  |\n",
       "| 1                   | 1434635             | AGUASCALIENTES      | 2020-06-22          | 68                  |\n",
       "| 1                   | 1434635             | AGUASCALIENTES      | 2020-07-10          | 75                  |\n",
       "| 3                   |  804708             | BAJA CALIFORNIA SUR | 2020-01-19          |  0                  |\n",
       "| 3                   |  804708             | BAJA CALIFORNIA SUR | 2020-02-06          |  0                  |\n",
       "| 3                   |  804708             | BAJA CALIFORNIA SUR | 2020-02-24          |  0                  |\n",
       "| 3                   |  804708             | BAJA CALIFORNIA SUR | 2020-03-13          |  0                  |\n",
       "| 3                   |  804708             | BAJA CALIFORNIA SUR | 2020-03-31          |  7                  |\n",
       "| 3                   |  804708             | BAJA CALIFORNIA SUR | 2020-04-18          |  3                  |\n",
       "| 3                   |  804708             | BAJA CALIFORNIA SUR | 2020-05-06          | 10                  |\n",
       "| 3                   |  804708             | BAJA CALIFORNIA SUR | 2020-05-24          |  9                  |\n",
       "| 3                   |  804708             | BAJA CALIFORNIA SUR | 2020-06-11          | 29                  |\n",
       "| 3                   |  804708             | BAJA CALIFORNIA SUR | 2020-06-29          | 63                  |\n",
       "| 4                   | 1000617             | CAMPECHE            | 2020-01-14          |  0                  |\n",
       "| 4                   | 1000617             | CAMPECHE            | 2020-02-01          |  0                  |\n",
       "| 4                   | 1000617             | CAMPECHE            | 2020-02-19          |  0                  |\n",
       "| 4                   | 1000617             | CAMPECHE            | 2020-03-08          |  1                  |\n",
       "| 4                   | 1000617             | CAMPECHE            | 2020-03-26          |  1                  |\n",
       "| 4                   | 1000617             | CAMPECHE            | 2020-04-13          |  2                  |\n",
       "| 4                   | 1000617             | CAMPECHE            | 2020-05-01          |  6                  |\n",
       "| 4                   | 1000617             | CAMPECHE            | 2020-05-19          | 21                  |\n",
       "| 4                   | 1000617             | CAMPECHE            | 2020-06-06          | 24                  |\n",
       "| ... | ... | ... | ... | ... |\n",
       "| 30         | 8539862    | VERACRUZ   | 2020-02-02 |   0        |\n",
       "| 30         | 8539862    | VERACRUZ   | 2020-02-20 |   0        |\n",
       "| 30         | 8539862    | VERACRUZ   | 2020-03-09 |   0        |\n",
       "| 30         | 8539862    | VERACRUZ   | 2020-03-27 |   1        |\n",
       "| 30         | 8539862    | VERACRUZ   | 2020-04-14 |  13        |\n",
       "| 30         | 8539862    | VERACRUZ   | 2020-05-02 |  65        |\n",
       "| 30         | 8539862    | VERACRUZ   | 2020-05-20 | 181        |\n",
       "| 30         | 8539862    | VERACRUZ   | 2020-06-07 | 103        |\n",
       "| 30         | 8539862    | VERACRUZ   | 2020-06-25 | 314        |\n",
       "| 30         | 8539862    | VERACRUZ   | 2020-07-13 |   5        |\n",
       "| 31         | 2259098    | YUCATAN    | 2020-01-28 |   0        |\n",
       "| 31         | 2259098    | YUCATAN    | 2020-02-15 |   0        |\n",
       "| 31         | 2259098    | YUCATAN    | 2020-03-04 |   0        |\n",
       "| 31         | 2259098    | YUCATAN    | 2020-03-22 |   8        |\n",
       "| 31         | 2259098    | YUCATAN    | 2020-04-09 |  11        |\n",
       "| 31         | 2259098    | YUCATAN    | 2020-04-27 |  37        |\n",
       "| 31         | 2259098    | YUCATAN    | 2020-05-15 |  42        |\n",
       "| 31         | 2259098    | YUCATAN    | 2020-06-02 |  48        |\n",
       "| 31         | 2259098    | YUCATAN    | 2020-06-20 |  94        |\n",
       "| 31         | 2259098    | YUCATAN    | 2020-07-08 | 162        |\n",
       "| 32         | 1666426    | ZACATECAS  | 2020-01-23 |   0        |\n",
       "| 32         | 1666426    | ZACATECAS  | 2020-02-10 |   0        |\n",
       "| 32         | 1666426    | ZACATECAS  | 2020-02-28 |   0        |\n",
       "| 32         | 1666426    | ZACATECAS  | 2020-03-17 |   0        |\n",
       "| 32         | 1666426    | ZACATECAS  | 2020-04-04 |   1        |\n",
       "| 32         | 1666426    | ZACATECAS  | 2020-04-22 |   2        |\n",
       "| 32         | 1666426    | ZACATECAS  | 2020-05-10 |   2        |\n",
       "| 32         | 1666426    | ZACATECAS  | 2020-05-28 |   7        |\n",
       "| 32         | 1666426    | ZACATECAS  | 2020-06-15 |  37        |\n",
       "| 32         | 1666426    | ZACATECAS  | 2020-07-03 |  49        |\n",
       "\n"
      ],
      "text/plain": [
       "    cve_ent poblacion estado              fecha      casos\n",
       "1   1       1434635   AGUASCALIENTES      2020-01-12  0   \n",
       "2   1       1434635   AGUASCALIENTES      2020-01-30  0   \n",
       "3   1       1434635   AGUASCALIENTES      2020-02-17  0   \n",
       "4   1       1434635   AGUASCALIENTES      2020-03-06  0   \n",
       "5   1       1434635   AGUASCALIENTES      2020-03-24  0   \n",
       "6   1       1434635   AGUASCALIENTES      2020-04-11  1   \n",
       "7   1       1434635   AGUASCALIENTES      2020-04-29 18   \n",
       "8   1       1434635   AGUASCALIENTES      2020-05-17  7   \n",
       "9   1       1434635   AGUASCALIENTES      2020-06-04 44   \n",
       "10  1       1434635   AGUASCALIENTES      2020-06-22 68   \n",
       "11  1       1434635   AGUASCALIENTES      2020-07-10 75   \n",
       "12  3        804708   BAJA CALIFORNIA SUR 2020-01-19  0   \n",
       "13  3        804708   BAJA CALIFORNIA SUR 2020-02-06  0   \n",
       "14  3        804708   BAJA CALIFORNIA SUR 2020-02-24  0   \n",
       "15  3        804708   BAJA CALIFORNIA SUR 2020-03-13  0   \n",
       "16  3        804708   BAJA CALIFORNIA SUR 2020-03-31  7   \n",
       "17  3        804708   BAJA CALIFORNIA SUR 2020-04-18  3   \n",
       "18  3        804708   BAJA CALIFORNIA SUR 2020-05-06 10   \n",
       "19  3        804708   BAJA CALIFORNIA SUR 2020-05-24  9   \n",
       "20  3        804708   BAJA CALIFORNIA SUR 2020-06-11 29   \n",
       "21  3        804708   BAJA CALIFORNIA SUR 2020-06-29 63   \n",
       "22  4       1000617   CAMPECHE            2020-01-14  0   \n",
       "23  4       1000617   CAMPECHE            2020-02-01  0   \n",
       "24  4       1000617   CAMPECHE            2020-02-19  0   \n",
       "25  4       1000617   CAMPECHE            2020-03-08  1   \n",
       "26  4       1000617   CAMPECHE            2020-03-26  1   \n",
       "27  4       1000617   CAMPECHE            2020-04-13  2   \n",
       "28  4       1000617   CAMPECHE            2020-05-01  6   \n",
       "29  4       1000617   CAMPECHE            2020-05-19 21   \n",
       "30  4       1000617   CAMPECHE            2020-06-06 24   \n",
       "... ...     ...       ...                 ...        ...  \n",
       "159 30      8539862   VERACRUZ            2020-02-02   0  \n",
       "160 30      8539862   VERACRUZ            2020-02-20   0  \n",
       "161 30      8539862   VERACRUZ            2020-03-09   0  \n",
       "162 30      8539862   VERACRUZ            2020-03-27   1  \n",
       "163 30      8539862   VERACRUZ            2020-04-14  13  \n",
       "164 30      8539862   VERACRUZ            2020-05-02  65  \n",
       "165 30      8539862   VERACRUZ            2020-05-20 181  \n",
       "166 30      8539862   VERACRUZ            2020-06-07 103  \n",
       "167 30      8539862   VERACRUZ            2020-06-25 314  \n",
       "168 30      8539862   VERACRUZ            2020-07-13   5  \n",
       "169 31      2259098   YUCATAN             2020-01-28   0  \n",
       "170 31      2259098   YUCATAN             2020-02-15   0  \n",
       "171 31      2259098   YUCATAN             2020-03-04   0  \n",
       "172 31      2259098   YUCATAN             2020-03-22   8  \n",
       "173 31      2259098   YUCATAN             2020-04-09  11  \n",
       "174 31      2259098   YUCATAN             2020-04-27  37  \n",
       "175 31      2259098   YUCATAN             2020-05-15  42  \n",
       "176 31      2259098   YUCATAN             2020-06-02  48  \n",
       "177 31      2259098   YUCATAN             2020-06-20  94  \n",
       "178 31      2259098   YUCATAN             2020-07-08 162  \n",
       "179 32      1666426   ZACATECAS           2020-01-23   0  \n",
       "180 32      1666426   ZACATECAS           2020-02-10   0  \n",
       "181 32      1666426   ZACATECAS           2020-02-28   0  \n",
       "182 32      1666426   ZACATECAS           2020-03-17   0  \n",
       "183 32      1666426   ZACATECAS           2020-04-04   1  \n",
       "184 32      1666426   ZACATECAS           2020-04-22   2  \n",
       "185 32      1666426   ZACATECAS           2020-05-10   2  \n",
       "186 32      1666426   ZACATECAS           2020-05-28   7  \n",
       "187 32      1666426   ZACATECAS           2020-06-15  37  \n",
       "188 32      1666426   ZACATECAS           2020-07-03  49  "
      ]
     },
     "metadata": {},
     "output_type": "display_data"
    }
   ],
   "source": [
    "df_long %>% \n",
    "        filter(estado==c(\"AGUASCALIENTES\", \"BAJA CALIFORNIA SUR\", \"CAMPECHE\", \"CHIAPAS\", \"CHIHUAHUA\", \"DISTRITO FEDERAL\", \"COAHUILA\", \n",
    "                     \"DURANGO\", \"GUANAJUATO\", \"JALISCO\", \"MICHOACAN\", \"QUERETARO\", \"QUINTANA ROO\", \"SAN LUIS POTOSI\", \"TAMAULIPAS\", \n",
    "                     \"VERACRUZ\", \"YUCATAN\", \"ZACATECAS\"), .preserve=TRUE)"
   ]
  },
  {
   "cell_type": "markdown",
   "metadata": {},
   "source": [
    "Queremos saber el efecto que tendrá la reactivación de actividades en la cantidad de contagios. Por lo que solo vamos a seleccionar los estados que cambiaron a semáforo naranja a partir del 29 de junio de 2020."
   ]
  },
  {
   "cell_type": "code",
   "execution_count": 184,
   "metadata": {},
   "outputs": [],
   "source": [
    "df_long_n<-df_long %>% \n",
    "    filter(estado==c(\"AGUASCALIENTES\", \"BAJA CALIFORNIA SUR\", \"CAMPECHE\", \"CHIAPAS\", \"CHIHUAHUA\", \"DISTRITO FEDERAL\", \"COAHUILA\", \n",
    "                     \"DURANGO\", \"GUANAJUATO\", \"JALISCO\", \"MICHOACAN\", \"QUERETARO\", \"QUINTANA ROO\", \"SAN LUIS POTOSI\", \"TAMAULIPAS\", \n",
    "                     \"VERACRUZ\", \"YUCATAN\", \"ZACATECAS\")) %>%\n",
    "    mutate(semaforo=ifelse(fecha>=ymd(20200629), \"naranja\", \"rojo\"))"
   ]
  },
  {
   "cell_type": "code",
   "execution_count": null,
   "metadata": {},
   "outputs": [],
   "source": []
  },
  {
   "cell_type": "code",
   "execution_count": 183,
   "metadata": {},
   "outputs": [
    {
     "name": "stdout",
     "output_type": "stream",
     "text": [
      "tibble [188 x 6] (S3: tbl_df/tbl/data.frame)\n",
      " $ cve_ent  : int [1:188] 1 1 1 1 1 1 1 1 1 1 ...\n",
      " $ poblacion: int [1:188] 1434635 1434635 1434635 1434635 1434635 1434635 1434635 1434635 1434635 1434635 ...\n",
      " $ estado   : Factor w/ 33 levels \"AGUASCALIENTES\",..: 1 1 1 1 1 1 1 1 1 1 ...\n",
      " $ fecha    : Date[1:188], format: \"2020-01-12\" \"2020-01-30\" ...\n",
      " $ casos    : int [1:188] 0 0 0 0 0 1 18 7 44 68 ...\n",
      " $ semaforo : chr [1:188] \"rojo\" \"rojo\" \"rojo\" \"rojo\" ...\n"
     ]
    }
   ],
   "source": [
    "str(df_long_n)"
   ]
  },
  {
   "cell_type": "code",
   "execution_count": 169,
   "metadata": {},
   "outputs": [
    {
     "data": {
      "image/png": "[encoded data removed]",
      "text/plain": [
       "plot without title"
      ]
     },
     "metadata": {},
     "output_type": "display_data"
    }
   ],
   "source": [
    "ggplot(data=df_long_n, aes(x= fecha, y=casos)) +\n",
    "    geom_line() +\n",
    "    facet_wrap(~estado)"
   ]
  },
  {
   "cell_type": "code",
   "execution_count": null,
   "metadata": {},
   "outputs": [],
   "source": []
  },
  {
   "cell_type": "markdown",
   "metadata": {},
   "source": [
    "**Definicion de fechas de corte para evaluar la efectividad del confinamiento**"
   ]
  },
  {
   "cell_type": "code",
   "execution_count": null,
   "metadata": {},
   "outputs": [],
   "source": []
  },
  {
   "cell_type": "markdown",
   "metadata": {},
   "source": [
    "Se considera como fecha de inicio de confinamiento nacional el 30 de Mayo de 2020."
   ]
  },
  {
   "cell_type": "code",
   "execution_count": 8,
   "metadata": {},
   "outputs": [],
   "source": [
    "confinamiento<-\"2020-03-30\""
   ]
  },
  {
   "cell_type": "code",
   "execution_count": 9,
   "metadata": {},
   "outputs": [],
   "source": [
    "df_long$conf<-df_long$fecha<confinamiento\n",
    "df_long$conf[df_long$conf==TRUE]<-'InicioPandemia'\n",
    "df_long$conf[df_long$conf==FALSE]<-'Confinamiento'"
   ]
  },
  {
   "cell_type": "markdown",
   "metadata": {},
   "source": [
    "Se separan las cifras totales para el analisis por estado"
   ]
  },
  {
   "cell_type": "code",
   "execution_count": 10,
   "metadata": {},
   "outputs": [],
   "source": [
    "df_long_estados<-subset(df_long,estado!='Nacional')"
   ]
  },
  {
   "cell_type": "markdown",
   "metadata": {},
   "source": [
    "Resultados de confirmados por etapa de confinamiento"
   ]
  },
  {
   "cell_type": "code",
   "execution_count": 11,
   "metadata": {},
   "outputs": [
    {
     "data": {
      "image/png": "[encoded data removed]",
      "text/plain": [
       "plot without title"
      ]
     },
     "metadata": {},
     "output_type": "display_data"
    }
   ],
   "source": [
    "ggplot(subset(df_long,estado=='Nacional'),aes(fill=conf,y=casos,x=conf)) +\n",
    "  geom_bar(position=\"dodge\",stat=\"identity\")"
   ]
  },
  {
   "cell_type": "markdown",
   "metadata": {},
   "source": [
    "Se puede observar que existe un numero mayor de confirmados por covid-19 durante la etapa de confinamiento que durante el inicio de la pandemia."
   ]
  },
  {
   "cell_type": "code",
   "execution_count": 12,
   "metadata": {},
   "outputs": [
    {
     "data": {
      "image/png": "[encoded data removed]",
      "text/plain": [
       "plot without title"
      ]
     },
     "metadata": {},
     "output_type": "display_data"
    }
   ],
   "source": [
    "ggplot(df_long_estados,aes(fill=conf,y=casos,x=conf)) +\n",
    "  geom_bar(position=\"dodge\",stat=\"identity\") +\n",
    "  ggtitle(\"Resultados de confinamiento por estado\") +\n",
    "  facet_wrap(~estado)+\n",
    "  theme(legend.position=\"none\")+\n",
    "  xlab(\"\")"
   ]
  },
  {
   "cell_type": "code",
   "execution_count": 29,
   "metadata": {},
   "outputs": [
    {
     "name": "stderr",
     "output_type": "stream",
     "text": [
      "`geom_smooth()` using method = 'loess' and formula 'y ~ x'\n"
     ]
    },
    {
     "data": {
      "image/png": "[encoded data removed]",
      "text/plain": [
       "plot without title"
      ]
     },
     "metadata": {},
     "output_type": "display_data"
    }
   ],
   "source": [
    "ggplot(df_long_estados,aes(y=casos,x=fecha)) +\n",
    "  geom_smooth() +\n",
    "  ggtitle(\"Resultados de confinamiento por estado\") +\n",
    "  facet_wrap(~estado)+\n",
    "  theme(legend.position=\"none\")+\n",
    "  xlab(\"\")"
   ]
  },
  {
   "cell_type": "markdown",
   "metadata": {},
   "source": [
    "Los unicos estados que presentan una disminucion de casos respecto a los dos periodos son: Chihuahua, Baja California y Morelos; mientras que los 29 estados tinene aumento."
   ]
  },
  {
   "cell_type": "code",
   "execution_count": 13,
   "metadata": {},
   "outputs": [
    {
     "name": "stderr",
     "output_type": "stream",
     "text": [
      "`summarise()` regrouping output by 'estado' (override with `.groups` argument)\n"
     ]
    }
   ],
   "source": [
    "conf_est<-df_long_estados  %>%\n",
    "  group_by(estado,conf) %>%\n",
    "  summarise(casos=sum(casos,na.rm=TRUE))%>%\n",
    "  spread(conf,casos)"
   ]
  },
  {
   "cell_type": "code",
   "execution_count": 14,
   "metadata": {},
   "outputs": [],
   "source": [
    "conf_est$delta<-conf_est$Confinamiento-conf_est$InicioPandemia"
   ]
  },
  {
   "cell_type": "code",
   "execution_count": 15,
   "metadata": {},
   "outputs": [
    {
     "data": {
      "text/html": [
       "<table>\n",
       "<thead><tr><th scope=col>estado</th><th scope=col>Confinamiento</th><th scope=col>InicioPandemia</th><th scope=col>delta</th></tr></thead>\n",
       "<tbody>\n",
       "\t<tr><td>COLIMA             </td><td>  977              </td><td>  3                </td><td>  974              </td></tr>\n",
       "\t<tr><td>ZACATECAS          </td><td> 1506              </td><td> 10                </td><td> 1496              </td></tr>\n",
       "\t<tr><td>NAYARIT            </td><td> 2519              </td><td>  8                </td><td> 2511              </td></tr>\n",
       "\t<tr><td>BAJA CALIFORNIA SUR</td><td> 2583              </td><td> 20                </td><td> 2563              </td></tr>\n",
       "\t<tr><td>QUERETARO          </td><td> 2635              </td><td> 32                </td><td> 2603              </td></tr>\n",
       "\t<tr><td>DURANGO            </td><td> 2915              </td><td>  9                </td><td> 2906              </td></tr>\n",
       "\t<tr><td>AGUASCALIENTES     </td><td> 3035              </td><td> 48                </td><td> 2987              </td></tr>\n",
       "\t<tr><td>CAMPECHE           </td><td> 3173              </td><td>  9                </td><td> 3164              </td></tr>\n",
       "\t<tr><td>MORELOS            </td><td> 3442              </td><td> 14                </td><td> 3428              </td></tr>\n",
       "\t<tr><td>TLAXCALA           </td><td> 3494              </td><td>  5                </td><td> 3489              </td></tr>\n",
       "\t<tr><td>CHIHUAHUA          </td><td> 4069              </td><td> 23                </td><td> 4046              </td></tr>\n",
       "\t<tr><td>SAN LUIS POTOSI    </td><td> 4967              </td><td> 35                </td><td> 4932              </td></tr>\n",
       "\t<tr><td>HIDALGO            </td><td> 5008              </td><td> 27                </td><td> 4981              </td></tr>\n",
       "\t<tr><td>CHIAPAS            </td><td> 5295              </td><td> 13                </td><td> 5282              </td></tr>\n",
       "\t<tr><td>QUINTANA ROO       </td><td> 5457              </td><td> 76                </td><td> 5381              </td></tr>\n",
       "\t<tr><td>YUCATAN            </td><td> 6621              </td><td> 53                </td><td> 6568              </td></tr>\n",
       "\t<tr><td>MICHOACAN          </td><td> 7405              </td><td> 25                </td><td> 7380              </td></tr>\n",
       "\t<tr><td>COAHUILA           </td><td> 7947              </td><td> 41                </td><td> 7906              </td></tr>\n",
       "\t<tr><td>OAXACA             </td><td> 8010              </td><td> 19                </td><td> 7991              </td></tr>\n",
       "\t<tr><td>GUERRERO           </td><td> 8123              </td><td> 26                </td><td> 8097              </td></tr>\n",
       "\t<tr><td>JALISCO            </td><td> 9653              </td><td>107                </td><td> 9546              </td></tr>\n",
       "\t<tr><td>TAMAULIPAS         </td><td> 9672              </td><td> 15                </td><td> 9657              </td></tr>\n",
       "\t<tr><td>SINALOA            </td><td>10695              </td><td> 53                </td><td>10642              </td></tr>\n",
       "\t<tr><td>NUEVO LEON         </td><td>10743              </td><td> 87                </td><td>10656              </td></tr>\n",
       "\t<tr><td>BAJA CALIFORNIA    </td><td>11140              </td><td>107                </td><td>11033              </td></tr>\n",
       "\t<tr><td>SONORA             </td><td>12688              </td><td> 24                </td><td>12664              </td></tr>\n",
       "\t<tr><td>GUANAJUATO         </td><td>13279              </td><td> 50                </td><td>13229              </td></tr>\n",
       "\t<tr><td>PUEBLA             </td><td>14763              </td><td>113                </td><td>14650              </td></tr>\n",
       "\t<tr><td>VERACRUZ           </td><td>15041              </td><td> 32                </td><td>15009              </td></tr>\n",
       "\t<tr><td>TABASCO            </td><td>15857              </td><td> 52                </td><td>15805              </td></tr>\n",
       "\t<tr><td>MEXICO             </td><td>43848              </td><td>269                </td><td>43579              </td></tr>\n",
       "\t<tr><td>DISTRITO FEDERAL   </td><td>59142              </td><td>528                </td><td>58614              </td></tr>\n",
       "</tbody>\n",
       "</table>\n"
      ],
      "text/latex": [
       "\\begin{tabular}{r|llll}\n",
       " estado & Confinamiento & InicioPandemia & delta\\\\\n",
       "\\hline\n",
       "\t COLIMA              &   977               &   3                 &   974              \\\\\n",
       "\t ZACATECAS           &  1506               &  10                 &  1496              \\\\\n",
       "\t NAYARIT             &  2519               &   8                 &  2511              \\\\\n",
       "\t BAJA CALIFORNIA SUR &  2583               &  20                 &  2563              \\\\\n",
       "\t QUERETARO           &  2635               &  32                 &  2603              \\\\\n",
       "\t DURANGO             &  2915               &   9                 &  2906              \\\\\n",
       "\t AGUASCALIENTES      &  3035               &  48                 &  2987              \\\\\n",
       "\t CAMPECHE            &  3173               &   9                 &  3164              \\\\\n",
       "\t MORELOS             &  3442               &  14                 &  3428              \\\\\n",
       "\t TLAXCALA            &  3494               &   5                 &  3489              \\\\\n",
       "\t CHIHUAHUA           &  4069               &  23                 &  4046              \\\\\n",
       "\t SAN LUIS POTOSI     &  4967               &  35                 &  4932              \\\\\n",
       "\t HIDALGO             &  5008               &  27                 &  4981              \\\\\n",
       "\t CHIAPAS             &  5295               &  13                 &  5282              \\\\\n",
       "\t QUINTANA ROO        &  5457               &  76                 &  5381              \\\\\n",
       "\t YUCATAN             &  6621               &  53                 &  6568              \\\\\n",
       "\t MICHOACAN           &  7405               &  25                 &  7380              \\\\\n",
       "\t COAHUILA            &  7947               &  41                 &  7906              \\\\\n",
       "\t OAXACA              &  8010               &  19                 &  7991              \\\\\n",
       "\t GUERRERO            &  8123               &  26                 &  8097              \\\\\n",
       "\t JALISCO             &  9653               & 107                 &  9546              \\\\\n",
       "\t TAMAULIPAS          &  9672               &  15                 &  9657              \\\\\n",
       "\t SINALOA             & 10695               &  53                 & 10642              \\\\\n",
       "\t NUEVO LEON          & 10743               &  87                 & 10656              \\\\\n",
       "\t BAJA CALIFORNIA     & 11140               & 107                 & 11033              \\\\\n",
       "\t SONORA              & 12688               &  24                 & 12664              \\\\\n",
       "\t GUANAJUATO          & 13279               &  50                 & 13229              \\\\\n",
       "\t PUEBLA              & 14763               & 113                 & 14650              \\\\\n",
       "\t VERACRUZ            & 15041               &  32                 & 15009              \\\\\n",
       "\t TABASCO             & 15857               &  52                 & 15805              \\\\\n",
       "\t MEXICO              & 43848               & 269                 & 43579              \\\\\n",
       "\t DISTRITO FEDERAL    & 59142               & 528                 & 58614              \\\\\n",
       "\\end{tabular}\n"
      ],
      "text/markdown": [
       "\n",
       "| estado | Confinamiento | InicioPandemia | delta |\n",
       "|---|---|---|---|\n",
       "| COLIMA              |   977               |   3                 |   974               |\n",
       "| ZACATECAS           |  1506               |  10                 |  1496               |\n",
       "| NAYARIT             |  2519               |   8                 |  2511               |\n",
       "| BAJA CALIFORNIA SUR |  2583               |  20                 |  2563               |\n",
       "| QUERETARO           |  2635               |  32                 |  2603               |\n",
       "| DURANGO             |  2915               |   9                 |  2906               |\n",
       "| AGUASCALIENTES      |  3035               |  48                 |  2987               |\n",
       "| CAMPECHE            |  3173               |   9                 |  3164               |\n",
       "| MORELOS             |  3442               |  14                 |  3428               |\n",
       "| TLAXCALA            |  3494               |   5                 |  3489               |\n",
       "| CHIHUAHUA           |  4069               |  23                 |  4046               |\n",
       "| SAN LUIS POTOSI     |  4967               |  35                 |  4932               |\n",
       "| HIDALGO             |  5008               |  27                 |  4981               |\n",
       "| CHIAPAS             |  5295               |  13                 |  5282               |\n",
       "| QUINTANA ROO        |  5457               |  76                 |  5381               |\n",
       "| YUCATAN             |  6621               |  53                 |  6568               |\n",
       "| MICHOACAN           |  7405               |  25                 |  7380               |\n",
       "| COAHUILA            |  7947               |  41                 |  7906               |\n",
       "| OAXACA              |  8010               |  19                 |  7991               |\n",
       "| GUERRERO            |  8123               |  26                 |  8097               |\n",
       "| JALISCO             |  9653               | 107                 |  9546               |\n",
       "| TAMAULIPAS          |  9672               |  15                 |  9657               |\n",
       "| SINALOA             | 10695               |  53                 | 10642               |\n",
       "| NUEVO LEON          | 10743               |  87                 | 10656               |\n",
       "| BAJA CALIFORNIA     | 11140               | 107                 | 11033               |\n",
       "| SONORA              | 12688               |  24                 | 12664               |\n",
       "| GUANAJUATO          | 13279               |  50                 | 13229               |\n",
       "| PUEBLA              | 14763               | 113                 | 14650               |\n",
       "| VERACRUZ            | 15041               |  32                 | 15009               |\n",
       "| TABASCO             | 15857               |  52                 | 15805               |\n",
       "| MEXICO              | 43848               | 269                 | 43579               |\n",
       "| DISTRITO FEDERAL    | 59142               | 528                 | 58614               |\n",
       "\n"
      ],
      "text/plain": [
       "   estado              Confinamiento InicioPandemia delta\n",
       "1  COLIMA                977           3              974\n",
       "2  ZACATECAS            1506          10             1496\n",
       "3  NAYARIT              2519           8             2511\n",
       "4  BAJA CALIFORNIA SUR  2583          20             2563\n",
       "5  QUERETARO            2635          32             2603\n",
       "6  DURANGO              2915           9             2906\n",
       "7  AGUASCALIENTES       3035          48             2987\n",
       "8  CAMPECHE             3173           9             3164\n",
       "9  MORELOS              3442          14             3428\n",
       "10 TLAXCALA             3494           5             3489\n",
       "11 CHIHUAHUA            4069          23             4046\n",
       "12 SAN LUIS POTOSI      4967          35             4932\n",
       "13 HIDALGO              5008          27             4981\n",
       "14 CHIAPAS              5295          13             5282\n",
       "15 QUINTANA ROO         5457          76             5381\n",
       "16 YUCATAN              6621          53             6568\n",
       "17 MICHOACAN            7405          25             7380\n",
       "18 COAHUILA             7947          41             7906\n",
       "19 OAXACA               8010          19             7991\n",
       "20 GUERRERO             8123          26             8097\n",
       "21 JALISCO              9653         107             9546\n",
       "22 TAMAULIPAS           9672          15             9657\n",
       "23 SINALOA             10695          53            10642\n",
       "24 NUEVO LEON          10743          87            10656\n",
       "25 BAJA CALIFORNIA     11140         107            11033\n",
       "26 SONORA              12688          24            12664\n",
       "27 GUANAJUATO          13279          50            13229\n",
       "28 PUEBLA              14763         113            14650\n",
       "29 VERACRUZ            15041          32            15009\n",
       "30 TABASCO             15857          52            15805\n",
       "31 MEXICO              43848         269            43579\n",
       "32 DISTRITO FEDERAL    59142         528            58614"
      ]
     },
     "metadata": {},
     "output_type": "display_data"
    }
   ],
   "source": [
    "conf_est[order(conf_est$delta),]"
   ]
  },
  {
   "cell_type": "code",
   "execution_count": 16,
   "metadata": {},
   "outputs": [
    {
     "data": {
      "image/png": "[encoded data removed]",
      "text/plain": [
       "Plot with title \"Crecimiento de confirmados al establecer confinamiento\""
      ]
     },
     "metadata": {},
     "output_type": "display_data"
    }
   ],
   "source": [
    "barplot(conf_est$delta,\n",
    "        names=conf_est$estado,\n",
    "        las=2,\n",
    "        main='Crecimiento de confirmados al establecer confinamiento',\n",
    "        xlab=\"Estados de la Republica\",\n",
    "        ylab=\"delta\",\n",
    "        col=\"skyblue\")"
   ]
  },
  {
   "cell_type": "code",
   "execution_count": 17,
   "metadata": {},
   "outputs": [
    {
     "name": "stderr",
     "output_type": "stream",
     "text": [
      "`summarise()` ungrouping output (override with `.groups` argument)\n"
     ]
    }
   ],
   "source": [
    "conf_est_por<-df_long_estados  %>%\n",
    "  group_by(estado) %>%\n",
    "  summarise(casos=sum(casos,na.rm=TRUE),poblacion=max(poblacion))"
   ]
  },
  {
   "cell_type": "code",
   "execution_count": 18,
   "metadata": {},
   "outputs": [],
   "source": [
    "conf_est_por$por<-100*conf_est_por$casos/conf_est_por$poblacion"
   ]
  },
  {
   "cell_type": "code",
   "execution_count": 19,
   "metadata": {},
   "outputs": [],
   "source": [
    "plot_por<-ggplot(conf_est_por,aes(x=poblacion,y=por))+\n",
    "  geom_point(size=6)"
   ]
  },
  {
   "cell_type": "code",
   "execution_count": 20,
   "metadata": {},
   "outputs": [
    {
     "data": {
      "image/png": "[encoded data removed]",
      "text/plain": [
       "plot without title"
      ]
     },
     "metadata": {},
     "output_type": "display_data"
    }
   ],
   "source": [
    "print(plot_por + labs( title= \"Porcentaje de confirmados por poblacion\", y=\"% Confirmados de la poblacion estatal\", x = \"Poblacion por estado\")+geom_text(aes(label=estado),hjust=0,vjust=0))"
   ]
  },
  {
   "cell_type": "markdown",
   "metadata": {},
   "source": [
    "Es importante hacer notar que al realizar los analisis en terminos relativos respecto a la poblacion total del estado, podemos notar que existen estados con porcentaje de casos confirmados alrededor entre 0.65 y 0.4% de su poblacion. Mientras que la inmensa mayoria se encuentra entre un 0.35% y 0.1%."
   ]
  },
  {
   "cell_type": "markdown",
   "metadata": {},
   "source": [
    "***Analisis de sensibilidad via regresion lineal***"
   ]
  },
  {
   "cell_type": "code",
   "execution_count": 21,
   "metadata": {},
   "outputs": [
    {
     "name": "stderr",
     "output_type": "stream",
     "text": [
      "`summarise()` regrouping output by 'conf' (override with `.groups` argument)\n"
     ]
    }
   ],
   "source": [
    "acum_dia<-df_long_estados  %>%\n",
    "  group_by(conf,fecha) %>%\n",
    "  summarise(casos=sum(casos,na.rm=TRUE))"
   ]
  },
  {
   "cell_type": "code",
   "execution_count": 22,
   "metadata": {},
   "outputs": [
    {
     "name": "stderr",
     "output_type": "stream",
     "text": [
      "`geom_smooth()` using formula 'y ~ x'\n"
     ]
    },
    {
     "data": {
      "image/png": "[encoded data removed]",
      "text/plain": [
       "plot without title"
      ]
     },
     "metadata": {},
     "output_type": "display_data"
    }
   ],
   "source": [
    "ggplot(acum_dia, aes(fecha,casos,group=conf,col=conf)) + \n",
    "  geom_point() + geom_smooth(method=lm)"
   ]
  },
  {
   "cell_type": "markdown",
   "metadata": {},
   "source": [
    "Como lo mencionamos anteriormente, el periodo de confinamiento tienen mas casos totales que durante el inicio de la pandemia. No obstante, mediante el analisis de regresion simple se muestra que la pendiente de los dos modelos es diferente. Mientras que para la primera fase es positiva, para el segundo momento es menor y negativa. Lo que podria indicarnos que existe un cambio en la tendencia de confirmados por Covid-19. Es muy importante seguir monitoreando este desempeño para verificar que este comportamiento sea sostenido en el tiempo."
   ]
  },
  {
   "cell_type": "code",
   "execution_count": 28,
   "metadata": {},
   "outputs": [
    {
     "name": "stderr",
     "output_type": "stream",
     "text": [
      "`geom_smooth()` using method = 'loess' and formula 'y ~ x'\n"
     ]
    },
    {
     "data": {
      "image/png": "[encoded data removed]",
      "text/plain": [
       "plot without title"
      ]
     },
     "metadata": {},
     "output_type": "display_data"
    }
   ],
   "source": [
    "ggplot(acum_dia, aes(fecha,casos)) + \n",
    "  geom_point() + geom_smooth()"
   ]
  },
  {
   "cell_type": "code",
   "execution_count": null,
   "metadata": {},
   "outputs": [],
   "source": []
  }
 ],
 "metadata": {
  "kernelspec": {
   "display_name": "R",
   "language": "R",
   "name": "ir"
  },
  "language_info": {
   "codemirror_mode": "r",
   "file_extension": ".r",
   "mimetype": "text/x-r-source",
   "name": "R",
   "pygments_lexer": "r",
   "version": "3.6.1"
  }
 },
 "nbformat": 4,
 "nbformat_minor": 4
}
